{
 "cells": [
  {
   "cell_type": "markdown",
   "id": "hired-forum",
   "metadata": {},
   "source": [
    "# Prediction of Baseball Hitters Salary using Linear Regression Model\n",
    "\n",
    "### Michael A. Akinola (other contributors: Adebukola C. Aladeyelu, Afeez A. Oladokun, Eniola E. Oladele) "
   ]
  },
  {
   "cell_type": "markdown",
   "id": "expired-showcase",
   "metadata": {},
   "source": [
    "### 1.0 INTRODUCTION\n",
    "\n",
    "Linear regression attempts to model the relationship between two sets of variables by fitting a linear equation to observed data. One set of variables is explanatory variable, and the other is the dependent or response variable. If there is just one explanatory variable, we have a simple linear regression. If there are more than one explanatory variables, we have a multiple linear regression. \n",
    "\n",
    "The most common method for fitting a regression line is the method of least-squares. This method calculates the best-fitting line for the observed data by minimizing the sum of the squares of the vertical deviations from each data point to the line (if a point lies on the fitted line exactly, then its vertical deviation is 0).\n",
    "\n",
    "In this work we deployed the method of least-squares to attempt predict the salary of baseball hitters."
   ]
  },
  {
   "cell_type": "code",
   "execution_count": 3,
   "id": "better-concrete",
   "metadata": {},
   "outputs": [],
   "source": [
    "# ==========\n",
    "# LIBRARIES \n",
    "# ==========\n",
    "\n",
    "#### Install ####\n",
    "\n",
    "# install.packages(\"funModeling\")\n",
    "# install.packages(\"naniar\")\n",
    "# install.packages(\"nortest\")\n",
    "# install.packages(\"dplyr\")\n",
    "# install.packages(car)\n",
    "# install.packages(faraway)\n",
    "# install.packages(\"gvlma\")\n",
    "\n",
    "#### Import ####\n",
    "\n",
    "library(\"funModeling\")\n",
    "library(\"naniar\")\n",
    "library(\"nortest\")\n",
    "library(\"dplyr\")\n",
    "library(\"car\")\n",
    "library(\"faraway\")\n",
    "library(\"gvlma\")\n",
    "library(\"alr3\")\n",
    "library(\"MASS\")\n",
    "library(\"moments\")"
   ]
  },
  {
   "cell_type": "markdown",
   "id": "coated-lover",
   "metadata": {},
   "source": [
    "### 2.0 DATASET\n",
    "\n",
    "NAME:  Pay for Play:  Are Baseball Salaries Based on Performance?\n",
    "\n",
    "TYPE:  Census\n",
    "\n",
    "SIZE:  337 observations, 18 variables\n",
    "\n",
    "The owners of this dataset considered as their population of interest the set of Major League Baseball players who played at least one game in both the 1991 and 1992 seasons, excluding pitchers.  This dataset contains the 1992 salaries for that population, along with performance measures for each player from 1991.  \n",
    "\n",
    "Baseball provides a rare opportunity to judge the value of an employee - in this case, a player - by standardized measures of performance. The question is, what are those characteristics worth?  In addition, the economic principle of freedom of movement for employees can be measured; that is, what financial benefit does a person gain if he is able to change employers?  Additionally, baseball fans may use their analysis of this dataset, in combination with other similar datasets, to gain insight into the salary structure in Major League Baseball."
   ]
  },
  {
   "cell_type": "markdown",
   "id": "extended-pulse",
   "metadata": {},
   "source": [
    "#### 2.1 Initial Data Inspection"
   ]
  },
  {
   "cell_type": "code",
   "execution_count": 4,
   "id": "radical-scheme",
   "metadata": {},
   "outputs": [],
   "source": [
    "# Bringing in the dataset\n",
    "\n",
    "baseball <- read.table(file=\"http://www.amstat.org/publications/jse/datasets/baseball.dat.txt\", header=FALSE, \n",
    "                       col.names=c(\"salary\", \"batting.avg\", \"OBP\", \"runs\", \"hits\", \"doubles\", \"triples\", \"homeruns\", \n",
    "                                   \"RBI\", \"walks\", \"strike.outs\", \"stolen.bases\", \"errors\", \"free.agency.elig\", \n",
    "                                   \"free.agent.91\", \"arb.elig\", \"arb.91\", \"name\"))"
   ]
  },
  {
   "cell_type": "code",
   "execution_count": 5,
   "id": "crude-combining",
   "metadata": {},
   "outputs": [
    {
     "data": {
      "text/html": [
       "'Data contains the following number of rows and columns respectively'"
      ],
      "text/latex": [
       "'Data contains the following number of rows and columns respectively'"
      ],
      "text/markdown": [
       "'Data contains the following number of rows and columns respectively'"
      ],
      "text/plain": [
       "[1] \"Data contains the following number of rows and columns respectively\""
      ]
     },
     "metadata": {},
     "output_type": "display_data"
    },
    {
     "data": {
      "text/html": [
       "<ol class=list-inline>\n",
       "\t<li>337</li>\n",
       "\t<li>18</li>\n",
       "</ol>\n"
      ],
      "text/latex": [
       "\\begin{enumerate*}\n",
       "\\item 337\n",
       "\\item 18\n",
       "\\end{enumerate*}\n"
      ],
      "text/markdown": [
       "1. 337\n",
       "2. 18\n",
       "\n",
       "\n"
      ],
      "text/plain": [
       "[1] 337  18"
      ]
     },
     "metadata": {},
     "output_type": "display_data"
    }
   ],
   "source": [
    "# Dimension of dataset\n",
    "\n",
    "\"Data contains the following number of rows and columns respectively\"\n",
    "dim(baseball)"
   ]
  },
  {
   "cell_type": "code",
   "execution_count": 6,
   "id": "egyptian-issue",
   "metadata": {},
   "outputs": [
    {
     "data": {
      "text/html": [
       "'Top six rows:'"
      ],
      "text/latex": [
       "'Top six rows:'"
      ],
      "text/markdown": [
       "'Top six rows:'"
      ],
      "text/plain": [
       "[1] \"Top six rows:\""
      ]
     },
     "metadata": {},
     "output_type": "display_data"
    },
    {
     "data": {
      "text/html": [
       "<table>\n",
       "<thead><tr><th scope=col>salary</th><th scope=col>batting.avg</th><th scope=col>OBP</th><th scope=col>runs</th><th scope=col>hits</th><th scope=col>doubles</th><th scope=col>triples</th><th scope=col>homeruns</th><th scope=col>RBI</th><th scope=col>walks</th><th scope=col>strike.outs</th><th scope=col>stolen.bases</th><th scope=col>errors</th><th scope=col>free.agency.elig</th><th scope=col>free.agent.91</th><th scope=col>arb.elig</th><th scope=col>arb.91</th><th scope=col>name</th></tr></thead>\n",
       "<tbody>\n",
       "\t<tr><td>3300             </td><td>0.272            </td><td>0.302            </td><td> 69              </td><td>153              </td><td>21               </td><td>4                </td><td>31               </td><td>104              </td><td>22               </td><td> 80              </td><td> 4               </td><td> 3               </td><td>1                </td><td>0                </td><td>0                </td><td>0                </td><td>Andre Dawson     </td></tr>\n",
       "\t<tr><td>2600             </td><td>0.269            </td><td>0.335            </td><td> 58              </td><td>111              </td><td>17               </td><td>2                </td><td>18               </td><td> 66              </td><td>39               </td><td> 69              </td><td> 0               </td><td> 3               </td><td>1                </td><td>1                </td><td>0                </td><td>0                </td><td>Steve Buchele    </td></tr>\n",
       "\t<tr><td>2500             </td><td>0.249            </td><td>0.337            </td><td> 54              </td><td>115              </td><td>15               </td><td>1                </td><td>17               </td><td> 73              </td><td>63               </td><td>116              </td><td> 6               </td><td> 5               </td><td>1                </td><td>0                </td><td>0                </td><td>0                </td><td>Kal Daniels      </td></tr>\n",
       "\t<tr><td>2475             </td><td>0.260            </td><td>0.292            </td><td> 59              </td><td>128              </td><td>22               </td><td>7                </td><td>12               </td><td> 50              </td><td>23               </td><td> 64              </td><td>21               </td><td>21               </td><td>0                </td><td>0                </td><td>1                </td><td>0                </td><td>Shawon Dunston   </td></tr>\n",
       "\t<tr><td>2313             </td><td>0.273            </td><td>0.346            </td><td> 87              </td><td>169              </td><td>28               </td><td>5                </td><td> 8               </td><td> 58              </td><td>70               </td><td> 53              </td><td> 3               </td><td> 8               </td><td>0                </td><td>0                </td><td>1                </td><td>0                </td><td>Mark Grace       </td></tr>\n",
       "\t<tr><td>2175             </td><td>0.291            </td><td>0.379            </td><td>104              </td><td>170              </td><td>32               </td><td>2                </td><td>26               </td><td>100              </td><td>87               </td><td> 89              </td><td>22               </td><td> 4               </td><td>1                </td><td>0                </td><td>0                </td><td>0                </td><td>Ryne Sandberg    </td></tr>\n",
       "</tbody>\n",
       "</table>\n"
      ],
      "text/latex": [
       "\\begin{tabular}{r|llllllllllllllllll}\n",
       " salary & batting.avg & OBP & runs & hits & doubles & triples & homeruns & RBI & walks & strike.outs & stolen.bases & errors & free.agency.elig & free.agent.91 & arb.elig & arb.91 & name\\\\\n",
       "\\hline\n",
       "\t 3300              & 0.272             & 0.302             &  69               & 153               & 21                & 4                 & 31                & 104               & 22                &  80               &  4                &  3                & 1                 & 0                 & 0                 & 0                 & Andre Dawson     \\\\\n",
       "\t 2600              & 0.269             & 0.335             &  58               & 111               & 17                & 2                 & 18                &  66               & 39                &  69               &  0                &  3                & 1                 & 1                 & 0                 & 0                 & Steve Buchele    \\\\\n",
       "\t 2500              & 0.249             & 0.337             &  54               & 115               & 15                & 1                 & 17                &  73               & 63                & 116               &  6                &  5                & 1                 & 0                 & 0                 & 0                 & Kal Daniels      \\\\\n",
       "\t 2475              & 0.260             & 0.292             &  59               & 128               & 22                & 7                 & 12                &  50               & 23                &  64               & 21                & 21                & 0                 & 0                 & 1                 & 0                 & Shawon Dunston   \\\\\n",
       "\t 2313              & 0.273             & 0.346             &  87               & 169               & 28                & 5                 &  8                &  58               & 70                &  53               &  3                &  8                & 0                 & 0                 & 1                 & 0                 & Mark Grace       \\\\\n",
       "\t 2175              & 0.291             & 0.379             & 104               & 170               & 32                & 2                 & 26                & 100               & 87                &  89               & 22                &  4                & 1                 & 0                 & 0                 & 0                 & Ryne Sandberg    \\\\\n",
       "\\end{tabular}\n"
      ],
      "text/markdown": [
       "\n",
       "| salary | batting.avg | OBP | runs | hits | doubles | triples | homeruns | RBI | walks | strike.outs | stolen.bases | errors | free.agency.elig | free.agent.91 | arb.elig | arb.91 | name |\n",
       "|---|---|---|---|---|---|---|---|---|---|---|---|---|---|---|---|---|---|\n",
       "| 3300              | 0.272             | 0.302             |  69               | 153               | 21                | 4                 | 31                | 104               | 22                |  80               |  4                |  3                | 1                 | 0                 | 0                 | 0                 | Andre Dawson      |\n",
       "| 2600              | 0.269             | 0.335             |  58               | 111               | 17                | 2                 | 18                |  66               | 39                |  69               |  0                |  3                | 1                 | 1                 | 0                 | 0                 | Steve Buchele     |\n",
       "| 2500              | 0.249             | 0.337             |  54               | 115               | 15                | 1                 | 17                |  73               | 63                | 116               |  6                |  5                | 1                 | 0                 | 0                 | 0                 | Kal Daniels       |\n",
       "| 2475              | 0.260             | 0.292             |  59               | 128               | 22                | 7                 | 12                |  50               | 23                |  64               | 21                | 21                | 0                 | 0                 | 1                 | 0                 | Shawon Dunston    |\n",
       "| 2313              | 0.273             | 0.346             |  87               | 169               | 28                | 5                 |  8                |  58               | 70                |  53               |  3                |  8                | 0                 | 0                 | 1                 | 0                 | Mark Grace        |\n",
       "| 2175              | 0.291             | 0.379             | 104               | 170               | 32                | 2                 | 26                | 100               | 87                |  89               | 22                |  4                | 1                 | 0                 | 0                 | 0                 | Ryne Sandberg     |\n",
       "\n"
      ],
      "text/plain": [
       "  salary batting.avg OBP   runs hits doubles triples homeruns RBI walks\n",
       "1 3300   0.272       0.302  69  153  21      4       31       104 22   \n",
       "2 2600   0.269       0.335  58  111  17      2       18        66 39   \n",
       "3 2500   0.249       0.337  54  115  15      1       17        73 63   \n",
       "4 2475   0.260       0.292  59  128  22      7       12        50 23   \n",
       "5 2313   0.273       0.346  87  169  28      5        8        58 70   \n",
       "6 2175   0.291       0.379 104  170  32      2       26       100 87   \n",
       "  strike.outs stolen.bases errors free.agency.elig free.agent.91 arb.elig\n",
       "1  80          4            3     1                0             0       \n",
       "2  69          0            3     1                1             0       \n",
       "3 116          6            5     1                0             0       \n",
       "4  64         21           21     0                0             1       \n",
       "5  53          3            8     0                0             1       \n",
       "6  89         22            4     1                0             0       \n",
       "  arb.91 name             \n",
       "1 0      Andre Dawson     \n",
       "2 0      Steve Buchele    \n",
       "3 0      Kal Daniels      \n",
       "4 0      Shawon Dunston   \n",
       "5 0      Mark Grace       \n",
       "6 0      Ryne Sandberg    "
      ]
     },
     "metadata": {},
     "output_type": "display_data"
    },
    {
     "data": {
      "text/html": [
       "'Bottom six rows:'"
      ],
      "text/latex": [
       "'Bottom six rows:'"
      ],
      "text/markdown": [
       "'Bottom six rows:'"
      ],
      "text/plain": [
       "[1] \"Bottom six rows:\""
      ]
     },
     "metadata": {},
     "output_type": "display_data"
    },
    {
     "data": {
      "text/html": [
       "<table>\n",
       "<thead><tr><th></th><th scope=col>salary</th><th scope=col>batting.avg</th><th scope=col>OBP</th><th scope=col>runs</th><th scope=col>hits</th><th scope=col>doubles</th><th scope=col>triples</th><th scope=col>homeruns</th><th scope=col>RBI</th><th scope=col>walks</th><th scope=col>strike.outs</th><th scope=col>stolen.bases</th><th scope=col>errors</th><th scope=col>free.agency.elig</th><th scope=col>free.agent.91</th><th scope=col>arb.elig</th><th scope=col>arb.91</th><th scope=col>name</th></tr></thead>\n",
       "<tbody>\n",
       "\t<tr><th scope=row>332</th><td>183              </td><td>0.213            </td><td>0.312            </td><td>36               </td><td>57               </td><td> 8               </td><td>3                </td><td> 2               </td><td>26               </td><td>39               </td><td>32               </td><td>8                </td><td>15               </td><td>0                </td><td>0                </td><td>0                </td><td>0                </td><td>Jeff Huson       </td></tr>\n",
       "\t<tr><th scope=row>333</th><td>170              </td><td>0.111            </td><td>0.138            </td><td> 3               </td><td> 3               </td><td> 0               </td><td>0                </td><td> 0               </td><td> 1               </td><td> 1               </td><td> 7               </td><td>0                </td><td> 0               </td><td>0                </td><td>0                </td><td>0                </td><td>0                </td><td>John Russell     </td></tr>\n",
       "\t<tr><th scope=row>334</th><td>160              </td><td>0.264            </td><td>0.318            </td><td>24               </td><td>48               </td><td> 7               </td><td>0                </td><td> 1               </td><td>22               </td><td>15               </td><td>18               </td><td>0                </td><td> 7               </td><td>0                </td><td>0                </td><td>0                </td><td>0                </td><td>Mario Diaz       </td></tr>\n",
       "\t<tr><th scope=row>335</th><td>142              </td><td>0.187            </td><td>0.281            </td><td>38               </td><td>50               </td><td> 9               </td><td>2                </td><td>15               </td><td>37               </td><td>32               </td><td>98               </td><td>0                </td><td> 9               </td><td>0                </td><td>0                </td><td>0                </td><td>0                </td><td>Dean Palmer      </td></tr>\n",
       "\t<tr><th scope=row>336</th><td>140              </td><td>0.264            </td><td>0.270            </td><td>24               </td><td>74               </td><td>16               </td><td>0                </td><td> 3               </td><td>27               </td><td> 5               </td><td>42               </td><td>0                </td><td>10               </td><td>0                </td><td>0                </td><td>0                </td><td>0                </td><td>Ivan Rodriguez   </td></tr>\n",
       "\t<tr><th scope=row>337</th><td>109              </td><td>0.258            </td><td>0.395            </td><td> 6               </td><td> 8               </td><td> 1               </td><td>0                </td><td> 1               </td><td> 6               </td><td> 7               </td><td>11               </td><td>0                </td><td> 0               </td><td>0                </td><td>0                </td><td>0                </td><td>0                </td><td>Monty Fariss     </td></tr>\n",
       "</tbody>\n",
       "</table>\n"
      ],
      "text/latex": [
       "\\begin{tabular}{r|llllllllllllllllll}\n",
       "  & salary & batting.avg & OBP & runs & hits & doubles & triples & homeruns & RBI & walks & strike.outs & stolen.bases & errors & free.agency.elig & free.agent.91 & arb.elig & arb.91 & name\\\\\n",
       "\\hline\n",
       "\t332 & 183               & 0.213             & 0.312             & 36                & 57                &  8                & 3                 &  2                & 26                & 39                & 32                & 8                 & 15                & 0                 & 0                 & 0                 & 0                 & Jeff Huson       \\\\\n",
       "\t333 & 170               & 0.111             & 0.138             &  3                &  3                &  0                & 0                 &  0                &  1                &  1                &  7                & 0                 &  0                & 0                 & 0                 & 0                 & 0                 & John Russell     \\\\\n",
       "\t334 & 160               & 0.264             & 0.318             & 24                & 48                &  7                & 0                 &  1                & 22                & 15                & 18                & 0                 &  7                & 0                 & 0                 & 0                 & 0                 & Mario Diaz       \\\\\n",
       "\t335 & 142               & 0.187             & 0.281             & 38                & 50                &  9                & 2                 & 15                & 37                & 32                & 98                & 0                 &  9                & 0                 & 0                 & 0                 & 0                 & Dean Palmer      \\\\\n",
       "\t336 & 140               & 0.264             & 0.270             & 24                & 74                & 16                & 0                 &  3                & 27                &  5                & 42                & 0                 & 10                & 0                 & 0                 & 0                 & 0                 & Ivan Rodriguez   \\\\\n",
       "\t337 & 109               & 0.258             & 0.395             &  6                &  8                &  1                & 0                 &  1                &  6                &  7                & 11                & 0                 &  0                & 0                 & 0                 & 0                 & 0                 & Monty Fariss     \\\\\n",
       "\\end{tabular}\n"
      ],
      "text/markdown": [
       "\n",
       "| <!--/--> | salary | batting.avg | OBP | runs | hits | doubles | triples | homeruns | RBI | walks | strike.outs | stolen.bases | errors | free.agency.elig | free.agent.91 | arb.elig | arb.91 | name |\n",
       "|---|---|---|---|---|---|---|---|---|---|---|---|---|---|---|---|---|---|---|\n",
       "| 332 | 183               | 0.213             | 0.312             | 36                | 57                |  8                | 3                 |  2                | 26                | 39                | 32                | 8                 | 15                | 0                 | 0                 | 0                 | 0                 | Jeff Huson        |\n",
       "| 333 | 170               | 0.111             | 0.138             |  3                |  3                |  0                | 0                 |  0                |  1                |  1                |  7                | 0                 |  0                | 0                 | 0                 | 0                 | 0                 | John Russell      |\n",
       "| 334 | 160               | 0.264             | 0.318             | 24                | 48                |  7                | 0                 |  1                | 22                | 15                | 18                | 0                 |  7                | 0                 | 0                 | 0                 | 0                 | Mario Diaz        |\n",
       "| 335 | 142               | 0.187             | 0.281             | 38                | 50                |  9                | 2                 | 15                | 37                | 32                | 98                | 0                 |  9                | 0                 | 0                 | 0                 | 0                 | Dean Palmer       |\n",
       "| 336 | 140               | 0.264             | 0.270             | 24                | 74                | 16                | 0                 |  3                | 27                |  5                | 42                | 0                 | 10                | 0                 | 0                 | 0                 | 0                 | Ivan Rodriguez    |\n",
       "| 337 | 109               | 0.258             | 0.395             |  6                |  8                |  1                | 0                 |  1                |  6                |  7                | 11                | 0                 |  0                | 0                 | 0                 | 0                 | 0                 | Monty Fariss      |\n",
       "\n"
      ],
      "text/plain": [
       "    salary batting.avg OBP   runs hits doubles triples homeruns RBI walks\n",
       "332 183    0.213       0.312 36   57    8      3        2       26  39   \n",
       "333 170    0.111       0.138  3    3    0      0        0        1   1   \n",
       "334 160    0.264       0.318 24   48    7      0        1       22  15   \n",
       "335 142    0.187       0.281 38   50    9      2       15       37  32   \n",
       "336 140    0.264       0.270 24   74   16      0        3       27   5   \n",
       "337 109    0.258       0.395  6    8    1      0        1        6   7   \n",
       "    strike.outs stolen.bases errors free.agency.elig free.agent.91 arb.elig\n",
       "332 32          8            15     0                0             0       \n",
       "333  7          0             0     0                0             0       \n",
       "334 18          0             7     0                0             0       \n",
       "335 98          0             9     0                0             0       \n",
       "336 42          0            10     0                0             0       \n",
       "337 11          0             0     0                0             0       \n",
       "    arb.91 name             \n",
       "332 0      Jeff Huson       \n",
       "333 0      John Russell     \n",
       "334 0      Mario Diaz       \n",
       "335 0      Dean Palmer      \n",
       "336 0      Ivan Rodriguez   \n",
       "337 0      Monty Fariss     "
      ]
     },
     "metadata": {},
     "output_type": "display_data"
    }
   ],
   "source": [
    "# Top six rows of data and Bottom six rows of data\n",
    "\n",
    "\"Top six rows:\"\n",
    "head(baseball)\n",
    "\n",
    "\"Bottom six rows:\"\n",
    "tail(baseball)"
   ]
  },
  {
   "cell_type": "markdown",
   "id": "initial-lodging",
   "metadata": {},
   "source": [
    "#### Transformation of Salary column\n",
    "\n",
    "We transformed the Salary column using log-transformation."
   ]
  },
  {
   "cell_type": "code",
   "execution_count": 7,
   "id": "affiliated-duplicate",
   "metadata": {},
   "outputs": [
    {
     "data": {
      "text/html": [
       "<table>\n",
       "<thead><tr><th scope=col>salary</th><th scope=col>batting.avg</th><th scope=col>OBP</th><th scope=col>runs</th><th scope=col>hits</th><th scope=col>doubles</th><th scope=col>triples</th><th scope=col>homeruns</th><th scope=col>RBI</th><th scope=col>walks</th><th scope=col>strike.outs</th><th scope=col>stolen.bases</th><th scope=col>errors</th><th scope=col>free.agency.elig</th><th scope=col>free.agent.91</th><th scope=col>arb.elig</th><th scope=col>arb.91</th><th scope=col>name</th><th scope=col>logsalary</th></tr></thead>\n",
       "<tbody>\n",
       "\t<tr><td>3300             </td><td>0.272            </td><td>0.302            </td><td> 69              </td><td>153              </td><td>21               </td><td>4                </td><td>31               </td><td>104              </td><td>22               </td><td> 80              </td><td> 4               </td><td> 3               </td><td>1                </td><td>0                </td><td>0                </td><td>0                </td><td>Andre Dawson     </td><td>8.101678         </td></tr>\n",
       "\t<tr><td>2600             </td><td>0.269            </td><td>0.335            </td><td> 58              </td><td>111              </td><td>17               </td><td>2                </td><td>18               </td><td> 66              </td><td>39               </td><td> 69              </td><td> 0               </td><td> 3               </td><td>1                </td><td>1                </td><td>0                </td><td>0                </td><td>Steve Buchele    </td><td>7.863267         </td></tr>\n",
       "\t<tr><td>2500             </td><td>0.249            </td><td>0.337            </td><td> 54              </td><td>115              </td><td>15               </td><td>1                </td><td>17               </td><td> 73              </td><td>63               </td><td>116              </td><td> 6               </td><td> 5               </td><td>1                </td><td>0                </td><td>0                </td><td>0                </td><td>Kal Daniels      </td><td>7.824046         </td></tr>\n",
       "\t<tr><td>2475             </td><td>0.260            </td><td>0.292            </td><td> 59              </td><td>128              </td><td>22               </td><td>7                </td><td>12               </td><td> 50              </td><td>23               </td><td> 64              </td><td>21               </td><td>21               </td><td>0                </td><td>0                </td><td>1                </td><td>0                </td><td>Shawon Dunston   </td><td>7.813996         </td></tr>\n",
       "\t<tr><td>2313             </td><td>0.273            </td><td>0.346            </td><td> 87              </td><td>169              </td><td>28               </td><td>5                </td><td> 8               </td><td> 58              </td><td>70               </td><td> 53              </td><td> 3               </td><td> 8               </td><td>0                </td><td>0                </td><td>1                </td><td>0                </td><td>Mark Grace       </td><td>7.746301         </td></tr>\n",
       "\t<tr><td>2175             </td><td>0.291            </td><td>0.379            </td><td>104              </td><td>170              </td><td>32               </td><td>2                </td><td>26               </td><td>100              </td><td>87               </td><td> 89              </td><td>22               </td><td> 4               </td><td>1                </td><td>0                </td><td>0                </td><td>0                </td><td>Ryne Sandberg    </td><td>7.684784         </td></tr>\n",
       "</tbody>\n",
       "</table>\n"
      ],
      "text/latex": [
       "\\begin{tabular}{r|lllllllllllllllllll}\n",
       " salary & batting.avg & OBP & runs & hits & doubles & triples & homeruns & RBI & walks & strike.outs & stolen.bases & errors & free.agency.elig & free.agent.91 & arb.elig & arb.91 & name & logsalary\\\\\n",
       "\\hline\n",
       "\t 3300              & 0.272             & 0.302             &  69               & 153               & 21                & 4                 & 31                & 104               & 22                &  80               &  4                &  3                & 1                 & 0                 & 0                 & 0                 & Andre Dawson      & 8.101678         \\\\\n",
       "\t 2600              & 0.269             & 0.335             &  58               & 111               & 17                & 2                 & 18                &  66               & 39                &  69               &  0                &  3                & 1                 & 1                 & 0                 & 0                 & Steve Buchele     & 7.863267         \\\\\n",
       "\t 2500              & 0.249             & 0.337             &  54               & 115               & 15                & 1                 & 17                &  73               & 63                & 116               &  6                &  5                & 1                 & 0                 & 0                 & 0                 & Kal Daniels       & 7.824046         \\\\\n",
       "\t 2475              & 0.260             & 0.292             &  59               & 128               & 22                & 7                 & 12                &  50               & 23                &  64               & 21                & 21                & 0                 & 0                 & 1                 & 0                 & Shawon Dunston    & 7.813996         \\\\\n",
       "\t 2313              & 0.273             & 0.346             &  87               & 169               & 28                & 5                 &  8                &  58               & 70                &  53               &  3                &  8                & 0                 & 0                 & 1                 & 0                 & Mark Grace        & 7.746301         \\\\\n",
       "\t 2175              & 0.291             & 0.379             & 104               & 170               & 32                & 2                 & 26                & 100               & 87                &  89               & 22                &  4                & 1                 & 0                 & 0                 & 0                 & Ryne Sandberg     & 7.684784         \\\\\n",
       "\\end{tabular}\n"
      ],
      "text/markdown": [
       "\n",
       "| salary | batting.avg | OBP | runs | hits | doubles | triples | homeruns | RBI | walks | strike.outs | stolen.bases | errors | free.agency.elig | free.agent.91 | arb.elig | arb.91 | name | logsalary |\n",
       "|---|---|---|---|---|---|---|---|---|---|---|---|---|---|---|---|---|---|---|\n",
       "| 3300              | 0.272             | 0.302             |  69               | 153               | 21                | 4                 | 31                | 104               | 22                |  80               |  4                |  3                | 1                 | 0                 | 0                 | 0                 | Andre Dawson      | 8.101678          |\n",
       "| 2600              | 0.269             | 0.335             |  58               | 111               | 17                | 2                 | 18                |  66               | 39                |  69               |  0                |  3                | 1                 | 1                 | 0                 | 0                 | Steve Buchele     | 7.863267          |\n",
       "| 2500              | 0.249             | 0.337             |  54               | 115               | 15                | 1                 | 17                |  73               | 63                | 116               |  6                |  5                | 1                 | 0                 | 0                 | 0                 | Kal Daniels       | 7.824046          |\n",
       "| 2475              | 0.260             | 0.292             |  59               | 128               | 22                | 7                 | 12                |  50               | 23                |  64               | 21                | 21                | 0                 | 0                 | 1                 | 0                 | Shawon Dunston    | 7.813996          |\n",
       "| 2313              | 0.273             | 0.346             |  87               | 169               | 28                | 5                 |  8                |  58               | 70                |  53               |  3                |  8                | 0                 | 0                 | 1                 | 0                 | Mark Grace        | 7.746301          |\n",
       "| 2175              | 0.291             | 0.379             | 104               | 170               | 32                | 2                 | 26                | 100               | 87                |  89               | 22                |  4                | 1                 | 0                 | 0                 | 0                 | Ryne Sandberg     | 7.684784          |\n",
       "\n"
      ],
      "text/plain": [
       "  salary batting.avg OBP   runs hits doubles triples homeruns RBI walks\n",
       "1 3300   0.272       0.302  69  153  21      4       31       104 22   \n",
       "2 2600   0.269       0.335  58  111  17      2       18        66 39   \n",
       "3 2500   0.249       0.337  54  115  15      1       17        73 63   \n",
       "4 2475   0.260       0.292  59  128  22      7       12        50 23   \n",
       "5 2313   0.273       0.346  87  169  28      5        8        58 70   \n",
       "6 2175   0.291       0.379 104  170  32      2       26       100 87   \n",
       "  strike.outs stolen.bases errors free.agency.elig free.agent.91 arb.elig\n",
       "1  80          4            3     1                0             0       \n",
       "2  69          0            3     1                1             0       \n",
       "3 116          6            5     1                0             0       \n",
       "4  64         21           21     0                0             1       \n",
       "5  53          3            8     0                0             1       \n",
       "6  89         22            4     1                0             0       \n",
       "  arb.91 name              logsalary\n",
       "1 0      Andre Dawson      8.101678 \n",
       "2 0      Steve Buchele     7.863267 \n",
       "3 0      Kal Daniels       7.824046 \n",
       "4 0      Shawon Dunston    7.813996 \n",
       "5 0      Mark Grace        7.746301 \n",
       "6 0      Ryne Sandberg     7.684784 "
      ]
     },
     "metadata": {},
     "output_type": "display_data"
    }
   ],
   "source": [
    "# Getting the Logarithm to natural base of the salary \n",
    "\n",
    "baseball$logsalary <- log(baseball$salary)\n",
    "head(baseball)"
   ]
  },
  {
   "cell_type": "markdown",
   "id": "perceived-omaha",
   "metadata": {},
   "source": [
    "### 3.0 METHOD\n",
    "\n",
    "This work takes three parts. First is Exploratory Data Analysis, EDA from which we obtained the histograms of both salary and the logarithm (natural base) of salary and we proceeded with the log-transformed salary from this step on in the project. We inspected the data and answered the following questions: Are there any missing data? Among all the predictors, how many of them are continuous, integer counts, and categorical, respectively. From the EDA, we came up with few interesting findings about the data.\n",
    "\n",
    "The second part is the application of Linear regression model to predict a hitter's salary based on performance variables. We fitted two models:\n",
    "(a)\tA model where the response variable is the log-transformed salary and the predictors are hits, RBI, walks, strike.outs, errors, free.agency.elig.\n",
    "(b)\tA model where the response variable is the log-transformed salary and the predictors are hits, RBI, walks, strike.outs, errors, free.agency.elig, free.agent.91, arb.elig.\n",
    "\n",
    "We found the coefficients of the predictors, the R-squared and adjusted R-squared and analyzed the models. We also checked for multicollinearity issue with the predictors and provided justification for our answer.\n",
    "Furthermore, we checked for the linear regression model assumptions. We checked for the conditional mean response is a LINEAR function of the predictor variables; the errors are INDEPENDENT random variables; the errors are conditionally NORMAL random variables, given the predictor variable values; and if the errors have EQUAL variance (Homoscedasticity) and made comments based on our findings.\n",
    "Outlier detection is carried out to identify outliers that are outlying in terms of predictors and response and made comments on the outlying players.\n",
    "\n",
    "The third and final part is comparison of the models. We compared the first model with the second model. We deployed two methods to validate this and came up with the better model in our opinion for prediction with reasons."
   ]
  },
  {
   "cell_type": "markdown",
   "id": "promising-copper",
   "metadata": {},
   "source": [
    "#### 3.1 Exloratory Data Analysis, EDA "
   ]
  },
  {
   "cell_type": "markdown",
   "id": "convertible-horizontal",
   "metadata": {},
   "source": [
    "There are 337 observations and 19 (additional one after transformation) variables with no missing value.\n",
    "\n",
    "The df_status() function dispaly quantity and percentage of zeros (q_zeros and p_zeros respectevly). Same metrics for NA values (q_NA and p_na). Last two columns indicates data type and quantity of unique values.\n",
    "\n",
    "The outputs of the function df_status() showed there are 337 unique players in the dataset, one factor/text variable, four categorical variables and fourteen continuous variables.\n",
    "\n",
    "The five number summary showed that minimum salary is 109 and maximum salary is 6100 units.\n",
    "\n",
    "The histogram shows salary is skewed to the right and log salary kind of uniform. From the Q-Q plot, the salary data is not normally distributed while the log salary looks near normal."
   ]
  },
  {
   "cell_type": "code",
   "execution_count": 8,
   "id": "liberal-style",
   "metadata": {},
   "outputs": [
    {
     "data": {
      "text/html": [
       "<dl class=dl-horizontal>\n",
       "\t<dt>salary</dt>\n",
       "\t\t<dd>0</dd>\n",
       "\t<dt>batting.avg</dt>\n",
       "\t\t<dd>0</dd>\n",
       "\t<dt>OBP</dt>\n",
       "\t\t<dd>0</dd>\n",
       "\t<dt>runs</dt>\n",
       "\t\t<dd>0</dd>\n",
       "\t<dt>hits</dt>\n",
       "\t\t<dd>0</dd>\n",
       "\t<dt>doubles</dt>\n",
       "\t\t<dd>0</dd>\n",
       "\t<dt>triples</dt>\n",
       "\t\t<dd>0</dd>\n",
       "\t<dt>homeruns</dt>\n",
       "\t\t<dd>0</dd>\n",
       "\t<dt>RBI</dt>\n",
       "\t\t<dd>0</dd>\n",
       "\t<dt>walks</dt>\n",
       "\t\t<dd>0</dd>\n",
       "\t<dt>strike.outs</dt>\n",
       "\t\t<dd>0</dd>\n",
       "\t<dt>stolen.bases</dt>\n",
       "\t\t<dd>0</dd>\n",
       "\t<dt>errors</dt>\n",
       "\t\t<dd>0</dd>\n",
       "\t<dt>free.agency.elig</dt>\n",
       "\t\t<dd>0</dd>\n",
       "\t<dt>free.agent.91</dt>\n",
       "\t\t<dd>0</dd>\n",
       "\t<dt>arb.elig</dt>\n",
       "\t\t<dd>0</dd>\n",
       "\t<dt>arb.91</dt>\n",
       "\t\t<dd>0</dd>\n",
       "\t<dt>name</dt>\n",
       "\t\t<dd>0</dd>\n",
       "\t<dt>logsalary</dt>\n",
       "\t\t<dd>0</dd>\n",
       "</dl>\n"
      ],
      "text/latex": [
       "\\begin{description*}\n",
       "\\item[salary] 0\n",
       "\\item[batting.avg] 0\n",
       "\\item[OBP] 0\n",
       "\\item[runs] 0\n",
       "\\item[hits] 0\n",
       "\\item[doubles] 0\n",
       "\\item[triples] 0\n",
       "\\item[homeruns] 0\n",
       "\\item[RBI] 0\n",
       "\\item[walks] 0\n",
       "\\item[strike.outs] 0\n",
       "\\item[stolen.bases] 0\n",
       "\\item[errors] 0\n",
       "\\item[free.agency.elig] 0\n",
       "\\item[free.agent.91] 0\n",
       "\\item[arb.elig] 0\n",
       "\\item[arb.91] 0\n",
       "\\item[name] 0\n",
       "\\item[logsalary] 0\n",
       "\\end{description*}\n"
      ],
      "text/markdown": [
       "salary\n",
       ":   0batting.avg\n",
       ":   0OBP\n",
       ":   0runs\n",
       ":   0hits\n",
       ":   0doubles\n",
       ":   0triples\n",
       ":   0homeruns\n",
       ":   0RBI\n",
       ":   0walks\n",
       ":   0strike.outs\n",
       ":   0stolen.bases\n",
       ":   0errors\n",
       ":   0free.agency.elig\n",
       ":   0free.agent.91\n",
       ":   0arb.elig\n",
       ":   0arb.91\n",
       ":   0name\n",
       ":   0logsalary\n",
       ":   0\n",
       "\n"
      ],
      "text/plain": [
       "          salary      batting.avg              OBP             runs \n",
       "               0                0                0                0 \n",
       "            hits          doubles          triples         homeruns \n",
       "               0                0                0                0 \n",
       "             RBI            walks      strike.outs     stolen.bases \n",
       "               0                0                0                0 \n",
       "          errors free.agency.elig    free.agent.91         arb.elig \n",
       "               0                0                0                0 \n",
       "          arb.91             name        logsalary \n",
       "               0                0                0 "
      ]
     },
     "metadata": {},
     "output_type": "display_data"
    }
   ],
   "source": [
    "# Missing check \n",
    "\n",
    "colMeans(is.na(baseball))"
   ]
  },
  {
   "cell_type": "code",
   "execution_count": 9,
   "id": "employed-multiple",
   "metadata": {},
   "outputs": [
    {
     "name": "stdout",
     "output_type": "stream",
     "text": [
      "           variable q_zeros p_zeros q_na p_na q_inf p_inf    type unique\n",
      "1            salary       0    0.00    0    0     0     0 integer    208\n",
      "2       batting.avg       0    0.00    0    0     0     0 numeric    133\n",
      "3               OBP       0    0.00    0    0     0     0 numeric    139\n",
      "4              runs       4    1.19    0    0     0     0 integer    105\n",
      "5              hits       0    0.00    0    0     0     0 integer    163\n",
      "6           doubles       7    2.08    0    0     0     0 integer     44\n",
      "7           triples      86   25.52    0    0     0     0 integer     14\n",
      "8          homeruns      45   13.35    0    0     0     0 integer     36\n",
      "9               RBI       2    0.59    0    0     0     0 integer    106\n",
      "10            walks       3    0.89    0    0     0     0 integer     90\n",
      "11      strike.outs       0    0.00    0    0     0     0 integer    118\n",
      "12     stolen.bases      69   20.47    0    0     0     0 integer     48\n",
      "13           errors      27    8.01    0    0     0     0 integer     28\n",
      "14 free.agency.elig     203   60.24    0    0     0     0 integer      2\n",
      "15    free.agent.91     298   88.43    0    0     0     0 integer      2\n",
      "16         arb.elig     272   80.71    0    0     0     0 integer      2\n",
      "17           arb.91     327   97.03    0    0     0     0 integer      2\n",
      "18             name       0    0.00    0    0     0     0  factor    337\n",
      "19        logsalary       0    0.00    0    0     0     0 numeric    208\n"
     ]
    }
   ],
   "source": [
    "#### Metrics of data: data types, zeros, infinite numbers, and missing values ####\n",
    "\n",
    "df_status(baseball)"
   ]
  },
  {
   "cell_type": "code",
   "execution_count": 10,
   "id": "protective-phenomenon",
   "metadata": {},
   "outputs": [
    {
     "data": {
      "text/plain": [
       "     salary      batting.avg          OBP             runs      \n",
       " Min.   : 109   Min.   :0.0630   Min.   :0.063   Min.   :  0.0  \n",
       " 1st Qu.: 230   1st Qu.:0.2380   1st Qu.:0.297   1st Qu.: 22.0  \n",
       " Median : 740   Median :0.2600   Median :0.323   Median : 41.0  \n",
       " Mean   :1249   Mean   :0.2578   Mean   :0.324   Mean   : 46.7  \n",
       " 3rd Qu.:2150   3rd Qu.:0.2810   3rd Qu.:0.354   3rd Qu.: 69.0  \n",
       " Max.   :6100   Max.   :0.4570   Max.   :0.486   Max.   :133.0  \n",
       "                                                                \n",
       "      hits           doubles         triples          homeruns     \n",
       " Min.   :  1.00   Min.   : 0.00   Min.   : 0.000   Min.   : 0.000  \n",
       " 1st Qu.: 51.00   1st Qu.: 9.00   1st Qu.: 0.000   1st Qu.: 2.000  \n",
       " Median : 91.00   Median :15.00   Median : 2.000   Median : 6.000  \n",
       " Mean   : 92.83   Mean   :16.67   Mean   : 2.338   Mean   : 9.098  \n",
       " 3rd Qu.:136.00   3rd Qu.:23.00   3rd Qu.: 3.000   3rd Qu.:15.000  \n",
       " Max.   :216.00   Max.   :49.00   Max.   :15.000   Max.   :44.000  \n",
       "                                                                   \n",
       "      RBI             walks         strike.outs      stolen.bases   \n",
       " Min.   :  0.00   Min.   :  0.00   Min.   :  1.00   Min.   : 0.000  \n",
       " 1st Qu.: 21.00   1st Qu.: 15.00   1st Qu.: 31.00   1st Qu.: 1.000  \n",
       " Median : 39.00   Median : 30.00   Median : 49.00   Median : 4.000  \n",
       " Mean   : 44.02   Mean   : 35.02   Mean   : 56.71   Mean   : 8.246  \n",
       " 3rd Qu.: 66.00   3rd Qu.: 49.00   3rd Qu.: 78.00   3rd Qu.:11.000  \n",
       " Max.   :133.00   Max.   :138.00   Max.   :175.00   Max.   :76.000  \n",
       "                                                                    \n",
       "     errors       free.agency.elig free.agent.91       arb.elig     \n",
       " Min.   : 0.000   Min.   :0.0000   Min.   :0.0000   Min.   :0.0000  \n",
       " 1st Qu.: 3.000   1st Qu.:0.0000   1st Qu.:0.0000   1st Qu.:0.0000  \n",
       " Median : 5.000   Median :0.0000   Median :0.0000   Median :0.0000  \n",
       " Mean   : 6.772   Mean   :0.3976   Mean   :0.1157   Mean   :0.1929  \n",
       " 3rd Qu.: 9.000   3rd Qu.:1.0000   3rd Qu.:0.0000   3rd Qu.:0.0000  \n",
       " Max.   :31.000   Max.   :1.0000   Max.   :1.0000   Max.   :1.0000  \n",
       "                                                                    \n",
       "     arb.91                       name       logsalary    \n",
       " Min.   :0.00000   Alan Trammell    :  1   Min.   :4.691  \n",
       " 1st Qu.:0.00000   Albert Belle     :  1   1st Qu.:5.438  \n",
       " Median :0.00000   Alfredo Griffin  :  1   Median :6.607  \n",
       " Mean   :0.02967   Andre Dawson     :  1   Mean   :6.535  \n",
       " 3rd Qu.:0.00000   Andres Galarraga :  1   3rd Qu.:7.673  \n",
       " Max.   :1.00000   Andujar Cedeno   :  1   Max.   :8.716  \n",
       "                   (Other)          :331                  "
      ]
     },
     "metadata": {},
     "output_type": "display_data"
    }
   ],
   "source": [
    "# Five number summary of variables\n",
    "\n",
    "summary(baseball)"
   ]
  },
  {
   "cell_type": "code",
   "execution_count": 11,
   "id": "bridal-welcome",
   "metadata": {},
   "outputs": [
    {
     "data": {
      "image/png": "[encoded data removed]",
      "text/plain": [
       "Plot with title \"Q-Q Plot of Salary\""
      ]
     },
     "metadata": {},
     "output_type": "display_data"
    },
    {
     "data": {
      "image/png": "[encoded data removed]",
      "text/plain": [
       "Plot with title \"Q-Q Plot of Log(Salary)\""
      ]
     },
     "metadata": {},
     "output_type": "display_data"
    }
   ],
   "source": [
    "# Histogram & Q-Q plots for Salary\n",
    "\n",
    "layout(matrix(c(1,2),1,2))\n",
    "hist(baseball$salary, xlab=\"salary\", main=\"Histogram of Salary\")\n",
    "qqnorm(baseball$salary, main=\"Q-Q Plot of Salary\")\n",
    "qqline(baseball$salary)\n",
    "\n",
    "# Histogram & Q-Q plots for Log Salary\n",
    "hist(baseball$logsalary, xlab=\"log-alary\", main=\"Histogram of Log(Salary)\")\n",
    "\n",
    "qqnorm(baseball$logsalary, main=\"Q-Q Plot of Log(Salary)\")\n",
    "qqline(baseball$logsalary)"
   ]
  },
  {
   "cell_type": "markdown",
   "id": "necessary-ukraine",
   "metadata": {},
   "source": [
    "#### 3.2 Models and Model Diagnostics\n",
    "\n",
    "##### 3.2.1 Model fitting\n",
    "\n",
    "Model 1 or fit.1\n",
    "We fitted the first model, fit.1, using six predictors/variables; hits, RBI, walks, strike.outs, errors, and free.agency.elig. We found the coefficients of the predictors as output in the cell below. The multiple R-squared and adjusted R-squared for this model are 0.6527 and 0.6464 respectively. The multiple R-squared indicates that the model accounts for 65.27 % of the variance in the log of salary. The residual standard error (0.6996) can be thought of as the average error in predicting logsalary from the six variables using this model. It appears that two (walks and errors) of the six predictors are not significant i.e. have coefficients which may not be significantly different from zero.\n",
    "\n",
    "Model 2 or fit.2\n",
    "We also fitted a second model, fit.2, using eight predictors/variables; hits, RBI, walks, strike.outs, errors, and free.agency.elig, free.agent.91 and arb.elig, We found the coefficients of the predictors as output in the cell below. The multiple R-squared and adjusted R-squared for this model are 0.7975 and 0.7925 respectively – both higher than those of model 1. The multiple R-squared indicates that the model accounts for 79.75 % of the variance in the log of salary. The residual standard error (0.5359) can be thought of as the average error in predicting logsalary from the six variables using this model. It appears that only one (errors) of the eight predictors is not significant i.e. have coefficients which may not be significantly different from zero."
   ]
  },
  {
   "cell_type": "code",
   "execution_count": 12,
   "id": "administrative-actress",
   "metadata": {},
   "outputs": [
    {
     "data": {
      "text/plain": [
       "\n",
       "Call:\n",
       "lm(formula = logsalary ~ hits + RBI + walks + strike.outs + errors + \n",
       "    free.agency.elig, data = baseball)\n",
       "\n",
       "Residuals:\n",
       "     Min       1Q   Median       3Q      Max \n",
       "-2.70583 -0.50656 -0.02607  0.53078  2.07558 \n",
       "\n",
       "Coefficients:\n",
       "                  Estimate Std. Error t value Pr(>|t|)    \n",
       "(Intercept)       5.108553   0.086369  59.148  < 2e-16 ***\n",
       "hits              0.007911   0.001563   5.061 6.95e-07 ***\n",
       "RBI               0.012624   0.002896   4.359 1.75e-05 ***\n",
       "walks             0.003142   0.002484   1.265 0.206773    \n",
       "strike.outs      -0.006407   0.001782  -3.595 0.000374 ***\n",
       "errors           -0.001604   0.007292  -0.220 0.825977    \n",
       "free.agency.elig  1.008197   0.084335  11.955  < 2e-16 ***\n",
       "---\n",
       "Signif. codes:  0 '***' 0.001 '**' 0.01 '*' 0.05 '.' 0.1 ' ' 1\n",
       "\n",
       "Residual standard error: 0.6996 on 330 degrees of freedom\n",
       "Multiple R-squared:  0.6527,\tAdjusted R-squared:  0.6464 \n",
       "F-statistic: 103.4 on 6 and 330 DF,  p-value: < 2.2e-16\n"
      ]
     },
     "metadata": {},
     "output_type": "display_data"
    },
    {
     "data": {
      "text/plain": [
       "\n",
       "Call:\n",
       "lm(formula = logsalary ~ hits + RBI + walks + strike.outs + errors + \n",
       "    free.agency.elig + free.agent.91 + arb.elig, data = baseball)\n",
       "\n",
       "Residuals:\n",
       "     Min       1Q   Median       3Q      Max \n",
       "-2.43061 -0.29106 -0.03605  0.32692  1.50084 \n",
       "\n",
       "Coefficients:\n",
       "                  Estimate Std. Error t value Pr(>|t|)    \n",
       "(Intercept)       4.945703   0.067270  73.521  < 2e-16 ***\n",
       "hits              0.004749   0.001215   3.908 0.000113 ***\n",
       "RBI               0.010536   0.002223   4.740 3.19e-06 ***\n",
       "walks             0.003423   0.001911   1.791 0.074247 .  \n",
       "strike.outs      -0.004311   0.001374  -3.138 0.001856 ** \n",
       "errors           -0.007602   0.005679  -1.339 0.181646    \n",
       "free.agency.elig  1.606375   0.081298  19.759  < 2e-16 ***\n",
       "free.agent.91    -0.270868   0.104750  -2.586 0.010145 *  \n",
       "arb.elig          1.315687   0.086930  15.135  < 2e-16 ***\n",
       "---\n",
       "Signif. codes:  0 '***' 0.001 '**' 0.01 '*' 0.05 '.' 0.1 ' ' 1\n",
       "\n",
       "Residual standard error: 0.5359 on 328 degrees of freedom\n",
       "Multiple R-squared:  0.7975,\tAdjusted R-squared:  0.7925 \n",
       "F-statistic: 161.4 on 8 and 328 DF,  p-value: < 2.2e-16\n"
      ]
     },
     "metadata": {},
     "output_type": "display_data"
    }
   ],
   "source": [
    "# Model 1/fit.1 => model with 6 predictors (hits, RBI, walks, strike.outs, errors, free.agency.elig.)\n",
    "\n",
    "fit.1 <- lm(logsalary ~ hits + RBI + walks + strike.outs + errors + free.agency.elig, data=baseball)\n",
    "# GET THE TABLE OF PARAMETER ESTIMATES\n",
    "summary(fit.1)\n",
    "\n",
    "# Model 2/fit.2 => model with 8 predictors (hits, RBI, walks, strike.outs, errors, free.agency.elig, free.agent.91, arb.elig)\n",
    "\n",
    "fit.2 <- lm(logsalary ~ hits + RBI + walks + strike.outs + errors + free.agency.elig + free.agent.91 + arb.elig, \n",
    "            data=baseball)\n",
    "# GET THE TABLE OF PARAMETER ESTIMATES\n",
    "summary(fit.2)"
   ]
  },
  {
   "cell_type": "code",
   "execution_count": 13,
   "id": "apparent-villa",
   "metadata": {},
   "outputs": [
    {
     "data": {
      "text/html": [
       "'Coefficients of predictors and intercept of model 1:'"
      ],
      "text/latex": [
       "'Coefficients of predictors and intercept of model 1:'"
      ],
      "text/markdown": [
       "'Coefficients of predictors and intercept of model 1:'"
      ],
      "text/plain": [
       "[1] \"Coefficients of predictors and intercept of model 1:\""
      ]
     },
     "metadata": {},
     "output_type": "display_data"
    },
    {
     "data": {
      "text/html": [
       "<dl class=dl-horizontal>\n",
       "\t<dt>(Intercept)</dt>\n",
       "\t\t<dd>5.10855258207959</dd>\n",
       "\t<dt>hits</dt>\n",
       "\t\t<dd>0.00791100113637459</dd>\n",
       "\t<dt>RBI</dt>\n",
       "\t\t<dd>0.0126242682767637</dd>\n",
       "\t<dt>walks</dt>\n",
       "\t\t<dd>0.00314200398857476</dd>\n",
       "\t<dt>strike.outs</dt>\n",
       "\t\t<dd>-0.00640702524329568</dd>\n",
       "\t<dt>errors</dt>\n",
       "\t\t<dd>-0.00160441685583036</dd>\n",
       "\t<dt>free.agency.elig</dt>\n",
       "\t\t<dd>1.0081967570857</dd>\n",
       "</dl>\n"
      ],
      "text/latex": [
       "\\begin{description*}\n",
       "\\item[(Intercept)] 5.10855258207959\n",
       "\\item[hits] 0.00791100113637459\n",
       "\\item[RBI] 0.0126242682767637\n",
       "\\item[walks] 0.00314200398857476\n",
       "\\item[strike.outs] -0.00640702524329568\n",
       "\\item[errors] -0.00160441685583036\n",
       "\\item[free.agency.elig] 1.0081967570857\n",
       "\\end{description*}\n"
      ],
      "text/markdown": [
       "(Intercept)\n",
       ":   5.10855258207959hits\n",
       ":   0.00791100113637459RBI\n",
       ":   0.0126242682767637walks\n",
       ":   0.00314200398857476strike.outs\n",
       ":   -0.00640702524329568errors\n",
       ":   -0.00160441685583036free.agency.elig\n",
       ":   1.0081967570857\n",
       "\n"
      ],
      "text/plain": [
       "     (Intercept)             hits              RBI            walks \n",
       "     5.108552582      0.007911001      0.012624268      0.003142004 \n",
       "     strike.outs           errors free.agency.elig \n",
       "    -0.006407025     -0.001604417      1.008196757 "
      ]
     },
     "metadata": {},
     "output_type": "display_data"
    },
    {
     "data": {
      "text/html": [
       "'Coefficients of predictors and intercept of model 2:'"
      ],
      "text/latex": [
       "'Coefficients of predictors and intercept of model 2:'"
      ],
      "text/markdown": [
       "'Coefficients of predictors and intercept of model 2:'"
      ],
      "text/plain": [
       "[1] \"Coefficients of predictors and intercept of model 2:\""
      ]
     },
     "metadata": {},
     "output_type": "display_data"
    },
    {
     "data": {
      "text/html": [
       "<dl class=dl-horizontal>\n",
       "\t<dt>(Intercept)</dt>\n",
       "\t\t<dd>4.94570267808718</dd>\n",
       "\t<dt>hits</dt>\n",
       "\t\t<dd>0.00474871603643417</dd>\n",
       "\t<dt>RBI</dt>\n",
       "\t\t<dd>0.0105359634225106</dd>\n",
       "\t<dt>walks</dt>\n",
       "\t\t<dd>0.00342264718829708</dd>\n",
       "\t<dt>strike.outs</dt>\n",
       "\t\t<dd>-0.00431096768371376</dd>\n",
       "\t<dt>errors</dt>\n",
       "\t\t<dd>-0.00760209780822373</dd>\n",
       "\t<dt>free.agency.elig</dt>\n",
       "\t\t<dd>1.60637518193854</dd>\n",
       "\t<dt>free.agent.91</dt>\n",
       "\t\t<dd>-0.270867943206768</dd>\n",
       "\t<dt>arb.elig</dt>\n",
       "\t\t<dd>1.31568658360825</dd>\n",
       "</dl>\n"
      ],
      "text/latex": [
       "\\begin{description*}\n",
       "\\item[(Intercept)] 4.94570267808718\n",
       "\\item[hits] 0.00474871603643417\n",
       "\\item[RBI] 0.0105359634225106\n",
       "\\item[walks] 0.00342264718829708\n",
       "\\item[strike.outs] -0.00431096768371376\n",
       "\\item[errors] -0.00760209780822373\n",
       "\\item[free.agency.elig] 1.60637518193854\n",
       "\\item[free.agent.91] -0.270867943206768\n",
       "\\item[arb.elig] 1.31568658360825\n",
       "\\end{description*}\n"
      ],
      "text/markdown": [
       "(Intercept)\n",
       ":   4.94570267808718hits\n",
       ":   0.00474871603643417RBI\n",
       ":   0.0105359634225106walks\n",
       ":   0.00342264718829708strike.outs\n",
       ":   -0.00431096768371376errors\n",
       ":   -0.00760209780822373free.agency.elig\n",
       ":   1.60637518193854free.agent.91\n",
       ":   -0.270867943206768arb.elig\n",
       ":   1.31568658360825\n",
       "\n"
      ],
      "text/plain": [
       "     (Intercept)             hits              RBI            walks \n",
       "     4.945702678      0.004748716      0.010535963      0.003422647 \n",
       "     strike.outs           errors free.agency.elig    free.agent.91 \n",
       "    -0.004310968     -0.007602098      1.606375182     -0.270867943 \n",
       "        arb.elig \n",
       "     1.315686584 "
      ]
     },
     "metadata": {},
     "output_type": "display_data"
    }
   ],
   "source": [
    "# Coefficients of predictors and intercept of models\n",
    "\n",
    "\"Coefficients of predictors and intercept of model 1:\"\n",
    "fit.1$coefficients\n",
    "\n",
    "\"Coefficients of predictors and intercept of model 2:\"\n",
    "fit.2$coefficients"
   ]
  },
  {
   "cell_type": "markdown",
   "id": "played-characterization",
   "metadata": {},
   "source": [
    "##### 3.2.2 Model Assumptions\n",
    "\n",
    "Moving forward, we checked on the linear regression model assumptions. The assumptions are that the conditional mean response is a LINEAR function of the predictor variables; the residual errors are INDEPENDENT random variables; the residual errors are conditionally NORMAL random variables, given the predictor variable values; and the residual errors have EQUAL variance. Much of our assumption checking involve looking at plots of the residuals (which are the observed error values) and running hypothesis tests about them."
   ]
  },
  {
   "cell_type": "markdown",
   "id": "broken-cisco",
   "metadata": {},
   "source": [
    "#### Multicollinearity\n",
    "\n",
    "To check multicollinearity between the predictors or our models, we calculated the condition numbers and the variance inflation factors, VIFs. The condition number is done by first obtaining the eigenvalues of XTX (where X here is the model matrix without the first column for the bias/intercept). The condition number, k measures the relative magnitude of the largest eigenvalue to the smallest. Condition numbers are useful in ascertaining collinearity. Values over 15 indicate a collinearity concern, and values over 30 indicate a major concern. We seem to have a major concern with our models because our condition numbers without the intercept are 196 and 415.6 for the two models respectively are way above 30. \n",
    "\n",
    "If the jth predictor has a large variance, the variance in the jth model coefficient will be large. Also, high R-squared of j will cause the variance in the jth model coefficient will be large. The 1/(1 – R-squared of j) are called the variance inflation factors (VIFs). VIFs more than 5 or 10 or its square root VIFs exceeding 2 indicate presence of multicollinearity, thus contributing to poor reliability in the estimated model coefficients (the regression coefficients could be way off). The standard errors for the coefficients can be high. \n",
    "\n",
    "It turns out that two of the predictors (hits and RBI) with square root of VIFs above 2 are and are highly correlated with one or more of the other variables as shown by the correlation matrix. The correlation matrices using a threshold of ± 0.4 revealed that there exists a high correlation between many of the variables. Hence, the assumption that there should not be multicollinearity among the predictors is not satisfied for both models."
   ]
  },
  {
   "cell_type": "code",
   "execution_count": 14,
   "id": "desperate-design",
   "metadata": {},
   "outputs": [
    {
     "data": {
      "text/html": [
       "'Condition number for model 1:'"
      ],
      "text/latex": [
       "'Condition number for model 1:'"
      ],
      "text/markdown": [
       "'Condition number for model 1:'"
      ],
      "text/plain": [
       "[1] \"Condition number for model 1:\""
      ]
     },
     "metadata": {},
     "output_type": "display_data"
    },
    {
     "data": {
      "text/html": [
       "196.014520813952"
      ],
      "text/latex": [
       "196.014520813952"
      ],
      "text/markdown": [
       "196.014520813952"
      ],
      "text/plain": [
       "[1] 196.0145"
      ]
     },
     "metadata": {},
     "output_type": "display_data"
    },
    {
     "data": {
      "text/html": [
       "'Condition number for model 2:'"
      ],
      "text/latex": [
       "'Condition number for model 2:'"
      ],
      "text/markdown": [
       "'Condition number for model 2:'"
      ],
      "text/plain": [
       "[1] \"Condition number for model 2:\""
      ]
     },
     "metadata": {},
     "output_type": "display_data"
    },
    {
     "data": {
      "text/html": [
       "415.578555639306"
      ],
      "text/latex": [
       "415.578555639306"
      ],
      "text/markdown": [
       "415.578555639306"
      ],
      "text/plain": [
       "[1] 415.5786"
      ]
     },
     "metadata": {},
     "output_type": "display_data"
    }
   ],
   "source": [
    "# COMPUTE CONDITION NUMBER WITHOUT INTERCEPT\n",
    "# Model 1\n",
    "cn.1 <- lm(logsalary ~ hits + RBI + walks + strike.outs + errors + free.agency.elig -1, data=baseball, x=TRUE)\n",
    "\"Condition number for model 1:\"\n",
    "kappa(cn.1$x)\n",
    "\n",
    "# Model 2\n",
    "cn.2 <- lm(logsalary ~ hits + RBI + walks + strike.outs + errors + free.agency.elig + free.agent.91 + arb.elig -1, \n",
    "           data=baseball, x=TRUE)\n",
    "\"Condition number for model 2:\"\n",
    "kappa(cn.2$x)"
   ]
  },
  {
   "cell_type": "code",
   "execution_count": 15,
   "id": "interim-diagram",
   "metadata": {},
   "outputs": [
    {
     "data": {
      "text/html": [
       "'VIFs and square root VIFs of model 1:'"
      ],
      "text/latex": [
       "'VIFs and square root VIFs of model 1:'"
      ],
      "text/markdown": [
       "'VIFs and square root VIFs of model 1:'"
      ],
      "text/plain": [
       "[1] \"VIFs and square root VIFs of model 1:\""
      ]
     },
     "metadata": {},
     "output_type": "display_data"
    },
    {
     "data": {
      "text/html": [
       "<dl class=dl-horizontal>\n",
       "\t<dt>hits</dt>\n",
       "\t\t<dd>4.51803909591895</dd>\n",
       "\t<dt>RBI</dt>\n",
       "\t\t<dd>5.03125455719963</dd>\n",
       "\t<dt>walks</dt>\n",
       "\t\t<dd>2.61384826029611</dd>\n",
       "\t<dt>strike.outs</dt>\n",
       "\t\t<dd>2.49543801480469</dd>\n",
       "\t<dt>errors</dt>\n",
       "\t\t<dd>1.28237732886056</dd>\n",
       "\t<dt>free.agency.elig</dt>\n",
       "\t\t<dd>1.17297100218276</dd>\n",
       "</dl>\n"
      ],
      "text/latex": [
       "\\begin{description*}\n",
       "\\item[hits] 4.51803909591895\n",
       "\\item[RBI] 5.03125455719963\n",
       "\\item[walks] 2.61384826029611\n",
       "\\item[strike.outs] 2.49543801480469\n",
       "\\item[errors] 1.28237732886056\n",
       "\\item[free.agency.elig] 1.17297100218276\n",
       "\\end{description*}\n"
      ],
      "text/markdown": [
       "hits\n",
       ":   4.51803909591895RBI\n",
       ":   5.03125455719963walks\n",
       ":   2.61384826029611strike.outs\n",
       ":   2.49543801480469errors\n",
       ":   1.28237732886056free.agency.elig\n",
       ":   1.17297100218276\n",
       "\n"
      ],
      "text/plain": [
       "            hits              RBI            walks      strike.outs \n",
       "        4.518039         5.031255         2.613848         2.495438 \n",
       "          errors free.agency.elig \n",
       "        1.282377         1.172971 "
      ]
     },
     "metadata": {},
     "output_type": "display_data"
    },
    {
     "data": {
      "text/html": [
       "<dl class=dl-horizontal>\n",
       "\t<dt>hits</dt>\n",
       "\t\t<dd>2.12556794667189</dd>\n",
       "\t<dt>RBI</dt>\n",
       "\t\t<dd>2.24304582146679</dd>\n",
       "\t<dt>walks</dt>\n",
       "\t\t<dd>1.61674001011174</dd>\n",
       "\t<dt>strike.outs</dt>\n",
       "\t\t<dd>1.5796955449721</dd>\n",
       "\t<dt>errors</dt>\n",
       "\t\t<dd>1.13242100336428</dd>\n",
       "\t<dt>free.agency.elig</dt>\n",
       "\t\t<dd>1.08303785814844</dd>\n",
       "</dl>\n"
      ],
      "text/latex": [
       "\\begin{description*}\n",
       "\\item[hits] 2.12556794667189\n",
       "\\item[RBI] 2.24304582146679\n",
       "\\item[walks] 1.61674001011174\n",
       "\\item[strike.outs] 1.5796955449721\n",
       "\\item[errors] 1.13242100336428\n",
       "\\item[free.agency.elig] 1.08303785814844\n",
       "\\end{description*}\n"
      ],
      "text/markdown": [
       "hits\n",
       ":   2.12556794667189RBI\n",
       ":   2.24304582146679walks\n",
       ":   1.61674001011174strike.outs\n",
       ":   1.5796955449721errors\n",
       ":   1.13242100336428free.agency.elig\n",
       ":   1.08303785814844\n",
       "\n"
      ],
      "text/plain": [
       "            hits              RBI            walks      strike.outs \n",
       "        2.125568         2.243046         1.616740         1.579696 \n",
       "          errors free.agency.elig \n",
       "        1.132421         1.083038 "
      ]
     },
     "metadata": {},
     "output_type": "display_data"
    },
    {
     "data": {
      "text/html": [
       "'VIFs and square root VIFs of model 2:'"
      ],
      "text/latex": [
       "'VIFs and square root VIFs of model 2:'"
      ],
      "text/markdown": [
       "'VIFs and square root VIFs of model 2:'"
      ],
      "text/plain": [
       "[1] \"VIFs and square root VIFs of model 2:\""
      ]
     },
     "metadata": {},
     "output_type": "display_data"
    },
    {
     "data": {
      "text/html": [
       "<dl class=dl-horizontal>\n",
       "\t<dt>hits</dt>\n",
       "\t\t<dd>4.65246811059468</dd>\n",
       "\t<dt>RBI</dt>\n",
       "\t\t<dd>5.05035899913596</dd>\n",
       "\t<dt>walks</dt>\n",
       "\t\t<dd>2.63746982436352</dd>\n",
       "\t<dt>strike.outs</dt>\n",
       "\t\t<dd>2.52711981423485</dd>\n",
       "\t<dt>errors</dt>\n",
       "\t\t<dd>1.32590503915121</dd>\n",
       "\t<dt>free.agency.elig</dt>\n",
       "\t\t<dd>1.85765031106429</dd>\n",
       "\t<dt>free.agent.91</dt>\n",
       "\t\t<dd>1.31762369592653</dd>\n",
       "\t<dt>arb.elig</dt>\n",
       "\t\t<dd>1.38045193533106</dd>\n",
       "</dl>\n"
      ],
      "text/latex": [
       "\\begin{description*}\n",
       "\\item[hits] 4.65246811059468\n",
       "\\item[RBI] 5.05035899913596\n",
       "\\item[walks] 2.63746982436352\n",
       "\\item[strike.outs] 2.52711981423485\n",
       "\\item[errors] 1.32590503915121\n",
       "\\item[free.agency.elig] 1.85765031106429\n",
       "\\item[free.agent.91] 1.31762369592653\n",
       "\\item[arb.elig] 1.38045193533106\n",
       "\\end{description*}\n"
      ],
      "text/markdown": [
       "hits\n",
       ":   4.65246811059468RBI\n",
       ":   5.05035899913596walks\n",
       ":   2.63746982436352strike.outs\n",
       ":   2.52711981423485errors\n",
       ":   1.32590503915121free.agency.elig\n",
       ":   1.85765031106429free.agent.91\n",
       ":   1.31762369592653arb.elig\n",
       ":   1.38045193533106\n",
       "\n"
      ],
      "text/plain": [
       "            hits              RBI            walks      strike.outs \n",
       "        4.652468         5.050359         2.637470         2.527120 \n",
       "          errors free.agency.elig    free.agent.91         arb.elig \n",
       "        1.325905         1.857650         1.317624         1.380452 "
      ]
     },
     "metadata": {},
     "output_type": "display_data"
    },
    {
     "data": {
      "text/html": [
       "<dl class=dl-horizontal>\n",
       "\t<dt>hits</dt>\n",
       "\t\t<dd>2.15695806880771</dd>\n",
       "\t<dt>RBI</dt>\n",
       "\t\t<dd>2.24730038026428</dd>\n",
       "\t<dt>walks</dt>\n",
       "\t\t<dd>1.62402888655452</dd>\n",
       "\t<dt>strike.outs</dt>\n",
       "\t\t<dd>1.58969173559997</dd>\n",
       "\t<dt>errors</dt>\n",
       "\t\t<dd>1.15147950010029</dd>\n",
       "\t<dt>free.agency.elig</dt>\n",
       "\t\t<dd>1.36295645970966</dd>\n",
       "\t<dt>free.agent.91</dt>\n",
       "\t\t<dd>1.14787790985215</dd>\n",
       "\t<dt>arb.elig</dt>\n",
       "\t\t<dd>1.174926353152</dd>\n",
       "</dl>\n"
      ],
      "text/latex": [
       "\\begin{description*}\n",
       "\\item[hits] 2.15695806880771\n",
       "\\item[RBI] 2.24730038026428\n",
       "\\item[walks] 1.62402888655452\n",
       "\\item[strike.outs] 1.58969173559997\n",
       "\\item[errors] 1.15147950010029\n",
       "\\item[free.agency.elig] 1.36295645970966\n",
       "\\item[free.agent.91] 1.14787790985215\n",
       "\\item[arb.elig] 1.174926353152\n",
       "\\end{description*}\n"
      ],
      "text/markdown": [
       "hits\n",
       ":   2.15695806880771RBI\n",
       ":   2.24730038026428walks\n",
       ":   1.62402888655452strike.outs\n",
       ":   1.58969173559997errors\n",
       ":   1.15147950010029free.agency.elig\n",
       ":   1.36295645970966free.agent.91\n",
       ":   1.14787790985215arb.elig\n",
       ":   1.174926353152\n",
       "\n"
      ],
      "text/plain": [
       "            hits              RBI            walks      strike.outs \n",
       "        2.156958         2.247300         1.624029         1.589692 \n",
       "          errors free.agency.elig    free.agent.91         arb.elig \n",
       "        1.151480         1.362956         1.147878         1.174926 "
      ]
     },
     "metadata": {},
     "output_type": "display_data"
    }
   ],
   "source": [
    "# Variance Inflation Factors, VIFs \n",
    "\n",
    "\"VIFs and square root VIFs of model 1:\"\n",
    "vif(fit.1)\n",
    "sqrt(vif(fit.1))\n",
    "\n",
    "\"VIFs and square root VIFs of model 2:\"\n",
    "vif(fit.2)\n",
    "sqrt(vif(fit.2))"
   ]
  },
  {
   "cell_type": "code",
   "execution_count": 16,
   "id": "concrete-duplicate",
   "metadata": {},
   "outputs": [
    {
     "data": {
      "text/html": [
       "'Correlation matrix of model 1 predictors'"
      ],
      "text/latex": [
       "'Correlation matrix of model 1 predictors'"
      ],
      "text/markdown": [
       "'Correlation matrix of model 1 predictors'"
      ],
      "text/plain": [
       "[1] \"Correlation matrix of model 1 predictors\""
      ]
     },
     "metadata": {},
     "output_type": "display_data"
    },
    {
     "data": {
      "text/html": [
       "<table>\n",
       "<thead><tr><th></th><th scope=col>hits</th><th scope=col>RBI</th><th scope=col>walks</th><th scope=col>strike.outs</th><th scope=col>errors</th><th scope=col>free.agency.elig</th></tr></thead>\n",
       "<tbody>\n",
       "\t<tr><th scope=row>hits</th><td>1.0000000  </td><td>0.8516157  </td><td>0.7230097  </td><td>0.6462582  </td><td> 0.41589377</td><td> 0.29266338</td></tr>\n",
       "\t<tr><th scope=row>RBI</th><td>0.8516157  </td><td>1.0000000  </td><td>0.7270564  </td><td>0.7454505  </td><td> 0.29305472</td><td> 0.30797366</td></tr>\n",
       "\t<tr><th scope=row>walks</th><td>0.7230097  </td><td>0.7270564  </td><td>1.0000000  </td><td>0.6663276  </td><td> 0.24300841</td><td> 0.35139245</td></tr>\n",
       "\t<tr><th scope=row>strike.outs</th><td>0.6462582  </td><td>0.7454505  </td><td>0.6663276  </td><td>1.0000000  </td><td> 0.30158792</td><td> 0.22515543</td></tr>\n",
       "\t<tr><th scope=row>errors</th><td>0.4158938  </td><td>0.2930547  </td><td>0.2430084  </td><td>0.3015879  </td><td> 1.00000000</td><td>-0.01575829</td></tr>\n",
       "\t<tr><th scope=row>free.agency.elig</th><td>0.2926634  </td><td>0.3079737  </td><td>0.3513924  </td><td>0.2251554  </td><td>-0.01575829</td><td> 1.00000000</td></tr>\n",
       "</tbody>\n",
       "</table>\n"
      ],
      "text/latex": [
       "\\begin{tabular}{r|llllll}\n",
       "  & hits & RBI & walks & strike.outs & errors & free.agency.elig\\\\\n",
       "\\hline\n",
       "\thits & 1.0000000   & 0.8516157   & 0.7230097   & 0.6462582   &  0.41589377 &  0.29266338\\\\\n",
       "\tRBI & 0.8516157   & 1.0000000   & 0.7270564   & 0.7454505   &  0.29305472 &  0.30797366\\\\\n",
       "\twalks & 0.7230097   & 0.7270564   & 1.0000000   & 0.6663276   &  0.24300841 &  0.35139245\\\\\n",
       "\tstrike.outs & 0.6462582   & 0.7454505   & 0.6663276   & 1.0000000   &  0.30158792 &  0.22515543\\\\\n",
       "\terrors & 0.4158938   & 0.2930547   & 0.2430084   & 0.3015879   &  1.00000000 & -0.01575829\\\\\n",
       "\tfree.agency.elig & 0.2926634   & 0.3079737   & 0.3513924   & 0.2251554   & -0.01575829 &  1.00000000\\\\\n",
       "\\end{tabular}\n"
      ],
      "text/markdown": [
       "\n",
       "| <!--/--> | hits | RBI | walks | strike.outs | errors | free.agency.elig |\n",
       "|---|---|---|---|---|---|---|\n",
       "| hits | 1.0000000   | 0.8516157   | 0.7230097   | 0.6462582   |  0.41589377 |  0.29266338 |\n",
       "| RBI | 0.8516157   | 1.0000000   | 0.7270564   | 0.7454505   |  0.29305472 |  0.30797366 |\n",
       "| walks | 0.7230097   | 0.7270564   | 1.0000000   | 0.6663276   |  0.24300841 |  0.35139245 |\n",
       "| strike.outs | 0.6462582   | 0.7454505   | 0.6663276   | 1.0000000   |  0.30158792 |  0.22515543 |\n",
       "| errors | 0.4158938   | 0.2930547   | 0.2430084   | 0.3015879   |  1.00000000 | -0.01575829 |\n",
       "| free.agency.elig | 0.2926634   | 0.3079737   | 0.3513924   | 0.2251554   | -0.01575829 |  1.00000000 |\n",
       "\n"
      ],
      "text/plain": [
       "                 hits      RBI       walks     strike.outs errors     \n",
       "hits             1.0000000 0.8516157 0.7230097 0.6462582    0.41589377\n",
       "RBI              0.8516157 1.0000000 0.7270564 0.7454505    0.29305472\n",
       "walks            0.7230097 0.7270564 1.0000000 0.6663276    0.24300841\n",
       "strike.outs      0.6462582 0.7454505 0.6663276 1.0000000    0.30158792\n",
       "errors           0.4158938 0.2930547 0.2430084 0.3015879    1.00000000\n",
       "free.agency.elig 0.2926634 0.3079737 0.3513924 0.2251554   -0.01575829\n",
       "                 free.agency.elig\n",
       "hits              0.29266338     \n",
       "RBI               0.30797366     \n",
       "walks             0.35139245     \n",
       "strike.outs       0.22515543     \n",
       "errors           -0.01575829     \n",
       "free.agency.elig  1.00000000     "
      ]
     },
     "metadata": {},
     "output_type": "display_data"
    },
    {
     "data": {
      "text/html": [
       "'Correlation matrix of model 2 predictors'"
      ],
      "text/latex": [
       "'Correlation matrix of model 2 predictors'"
      ],
      "text/markdown": [
       "'Correlation matrix of model 2 predictors'"
      ],
      "text/plain": [
       "[1] \"Correlation matrix of model 2 predictors\""
      ]
     },
     "metadata": {},
     "output_type": "display_data"
    },
    {
     "data": {
      "text/html": [
       "<table>\n",
       "<thead><tr><th></th><th scope=col>hits</th><th scope=col>RBI</th><th scope=col>walks</th><th scope=col>strike.outs</th><th scope=col>errors</th><th scope=col>free.agency.elig</th><th scope=col>free.agent.91</th><th scope=col>arb.elig</th></tr></thead>\n",
       "<tbody>\n",
       "\t<tr><th scope=row>hits</th><td>1.00000000  </td><td>0.85161568  </td><td>0.72300970  </td><td> 0.646258214</td><td> 0.41589377 </td><td> 0.29266338 </td><td> 0.035171284</td><td> 0.18820927 </td></tr>\n",
       "\t<tr><th scope=row>RBI</th><td>0.85161568  </td><td>1.00000000  </td><td>0.72705641  </td><td> 0.745450537</td><td> 0.29305472 </td><td> 0.30797366 </td><td> 0.024258822</td><td> 0.12654902 </td></tr>\n",
       "\t<tr><th scope=row>walks</th><td>0.72300970  </td><td>0.72705641  </td><td>1.00000000  </td><td> 0.666327573</td><td> 0.24300841 </td><td> 0.35139245 </td><td> 0.016567960</td><td> 0.03148368 </td></tr>\n",
       "\t<tr><th scope=row>strike.outs</th><td>0.64625821  </td><td>0.74545054  </td><td>0.66632757  </td><td> 1.000000000</td><td> 0.30158792 </td><td> 0.22515543 </td><td>-0.009760519</td><td> 0.03920710 </td></tr>\n",
       "\t<tr><th scope=row>errors</th><td>0.41589377  </td><td>0.29305472  </td><td>0.24300841  </td><td> 0.301587921</td><td> 1.00000000 </td><td>-0.01575829 </td><td> 0.078222219</td><td> 0.21201364 </td></tr>\n",
       "\t<tr><th scope=row>free.agency.elig</th><td>0.29266338  </td><td>0.30797366  </td><td>0.35139245  </td><td> 0.225155429</td><td>-0.01575829 </td><td> 1.00000000 </td><td> 0.445266264</td><td>-0.39717016 </td></tr>\n",
       "\t<tr><th scope=row>free.agent.91</th><td>0.03517128  </td><td>0.02425882  </td><td>0.01656796  </td><td>-0.009760519</td><td> 0.07822222 </td><td> 0.44526626 </td><td> 1.000000000</td><td>-0.17684647 </td></tr>\n",
       "\t<tr><th scope=row>arb.elig</th><td>0.18820927  </td><td>0.12654902  </td><td>0.03148368  </td><td> 0.039207098</td><td> 0.21201364 </td><td>-0.39717016 </td><td>-0.176846471</td><td> 1.00000000 </td></tr>\n",
       "</tbody>\n",
       "</table>\n"
      ],
      "text/latex": [
       "\\begin{tabular}{r|llllllll}\n",
       "  & hits & RBI & walks & strike.outs & errors & free.agency.elig & free.agent.91 & arb.elig\\\\\n",
       "\\hline\n",
       "\thits & 1.00000000   & 0.85161568   & 0.72300970   &  0.646258214 &  0.41589377  &  0.29266338  &  0.035171284 &  0.18820927 \\\\\n",
       "\tRBI & 0.85161568   & 1.00000000   & 0.72705641   &  0.745450537 &  0.29305472  &  0.30797366  &  0.024258822 &  0.12654902 \\\\\n",
       "\twalks & 0.72300970   & 0.72705641   & 1.00000000   &  0.666327573 &  0.24300841  &  0.35139245  &  0.016567960 &  0.03148368 \\\\\n",
       "\tstrike.outs & 0.64625821   & 0.74545054   & 0.66632757   &  1.000000000 &  0.30158792  &  0.22515543  & -0.009760519 &  0.03920710 \\\\\n",
       "\terrors & 0.41589377   & 0.29305472   & 0.24300841   &  0.301587921 &  1.00000000  & -0.01575829  &  0.078222219 &  0.21201364 \\\\\n",
       "\tfree.agency.elig & 0.29266338   & 0.30797366   & 0.35139245   &  0.225155429 & -0.01575829  &  1.00000000  &  0.445266264 & -0.39717016 \\\\\n",
       "\tfree.agent.91 & 0.03517128   & 0.02425882   & 0.01656796   & -0.009760519 &  0.07822222  &  0.44526626  &  1.000000000 & -0.17684647 \\\\\n",
       "\tarb.elig & 0.18820927   & 0.12654902   & 0.03148368   &  0.039207098 &  0.21201364  & -0.39717016  & -0.176846471 &  1.00000000 \\\\\n",
       "\\end{tabular}\n"
      ],
      "text/markdown": [
       "\n",
       "| <!--/--> | hits | RBI | walks | strike.outs | errors | free.agency.elig | free.agent.91 | arb.elig |\n",
       "|---|---|---|---|---|---|---|---|---|\n",
       "| hits | 1.00000000   | 0.85161568   | 0.72300970   |  0.646258214 |  0.41589377  |  0.29266338  |  0.035171284 |  0.18820927  |\n",
       "| RBI | 0.85161568   | 1.00000000   | 0.72705641   |  0.745450537 |  0.29305472  |  0.30797366  |  0.024258822 |  0.12654902  |\n",
       "| walks | 0.72300970   | 0.72705641   | 1.00000000   |  0.666327573 |  0.24300841  |  0.35139245  |  0.016567960 |  0.03148368  |\n",
       "| strike.outs | 0.64625821   | 0.74545054   | 0.66632757   |  1.000000000 |  0.30158792  |  0.22515543  | -0.009760519 |  0.03920710  |\n",
       "| errors | 0.41589377   | 0.29305472   | 0.24300841   |  0.301587921 |  1.00000000  | -0.01575829  |  0.078222219 |  0.21201364  |\n",
       "| free.agency.elig | 0.29266338   | 0.30797366   | 0.35139245   |  0.225155429 | -0.01575829  |  1.00000000  |  0.445266264 | -0.39717016  |\n",
       "| free.agent.91 | 0.03517128   | 0.02425882   | 0.01656796   | -0.009760519 |  0.07822222  |  0.44526626  |  1.000000000 | -0.17684647  |\n",
       "| arb.elig | 0.18820927   | 0.12654902   | 0.03148368   |  0.039207098 |  0.21201364  | -0.39717016  | -0.176846471 |  1.00000000  |\n",
       "\n"
      ],
      "text/plain": [
       "                 hits       RBI        walks      strike.outs  errors     \n",
       "hits             1.00000000 0.85161568 0.72300970  0.646258214  0.41589377\n",
       "RBI              0.85161568 1.00000000 0.72705641  0.745450537  0.29305472\n",
       "walks            0.72300970 0.72705641 1.00000000  0.666327573  0.24300841\n",
       "strike.outs      0.64625821 0.74545054 0.66632757  1.000000000  0.30158792\n",
       "errors           0.41589377 0.29305472 0.24300841  0.301587921  1.00000000\n",
       "free.agency.elig 0.29266338 0.30797366 0.35139245  0.225155429 -0.01575829\n",
       "free.agent.91    0.03517128 0.02425882 0.01656796 -0.009760519  0.07822222\n",
       "arb.elig         0.18820927 0.12654902 0.03148368  0.039207098  0.21201364\n",
       "                 free.agency.elig free.agent.91 arb.elig   \n",
       "hits              0.29266338       0.035171284   0.18820927\n",
       "RBI               0.30797366       0.024258822   0.12654902\n",
       "walks             0.35139245       0.016567960   0.03148368\n",
       "strike.outs       0.22515543      -0.009760519   0.03920710\n",
       "errors           -0.01575829       0.078222219   0.21201364\n",
       "free.agency.elig  1.00000000       0.445266264  -0.39717016\n",
       "free.agent.91     0.44526626       1.000000000  -0.17684647\n",
       "arb.elig         -0.39717016      -0.176846471   1.00000000"
      ]
     },
     "metadata": {},
     "output_type": "display_data"
    }
   ],
   "source": [
    "# Verifying multicollinearity from correlation matrix\n",
    "\n",
    "\"Correlation matrix of model 1 predictors\"\n",
    "fit.1.predictors <- subset(baseball, select=c(hits, RBI, walks, strike.outs, errors, free.agency.elig))\n",
    "cor(fit.1.predictors)\n",
    "\n",
    "\"Correlation matrix of model 2 predictors\"\n",
    "fit.2.predictors <- subset(baseball, select=c(hits, RBI, walks, strike.outs, errors, free.agency.elig, free.agent.91, \n",
    "                                              arb.elig))\n",
    "cor(fit.2.predictors)"
   ]
  },
  {
   "cell_type": "markdown",
   "id": "dense-international",
   "metadata": {},
   "source": [
    "#### Homoscedasticity\n",
    "\n",
    "We computed Score Test for Non-Constant Error Variance using the ncvTest() function with null hypothesis of constant error variance. We also plotted residuals versus fitted values, and the spread-level plot using the spreadLevelPlot() function. The large p-values (0.45834 and 0.58693 both larger than 0.05), output of the plot of residuals versus fits with the centering of values around zero and no-pattern output, and the spread-level plot with the points forming a random almost horizontal line of best fit all justified constant error variance or homoscedasticity i.e. the models’ random variables have the same finite variance. The suggested power transformations are 1.7256 and 0.818. That of model 1 is well above 1 while that of model 2 is approximately 1 indicating no transformation needed. The homoscedasticity assumption is satisfied for both models."
   ]
  },
  {
   "cell_type": "code",
   "execution_count": 17,
   "id": "defensive-kentucky",
   "metadata": {},
   "outputs": [
    {
     "data": {
      "text/html": [
       "'Score Test For Non-Constant Error Variance - model 1:'"
      ],
      "text/latex": [
       "'Score Test For Non-Constant Error Variance - model 1:'"
      ],
      "text/markdown": [
       "'Score Test For Non-Constant Error Variance - model 1:'"
      ],
      "text/plain": [
       "[1] \"Score Test For Non-Constant Error Variance - model 1:\""
      ]
     },
     "metadata": {},
     "output_type": "display_data"
    },
    {
     "data": {
      "text/plain": [
       "Non-constant Variance Score Test \n",
       "Variance formula: ~ fitted.values \n",
       "Chisquare = 0.5499524, Df = 1, p = 0.45834"
      ]
     },
     "metadata": {},
     "output_type": "display_data"
    },
    {
     "data": {
      "text/html": [
       "'Score Test For Non-Constant Error Variance - model 2:'"
      ],
      "text/latex": [
       "'Score Test For Non-Constant Error Variance - model 2:'"
      ],
      "text/markdown": [
       "'Score Test For Non-Constant Error Variance - model 2:'"
      ],
      "text/plain": [
       "[1] \"Score Test For Non-Constant Error Variance - model 2:\""
      ]
     },
     "metadata": {},
     "output_type": "display_data"
    },
    {
     "data": {
      "text/plain": [
       "Non-constant Variance Score Test \n",
       "Variance formula: ~ fitted.values \n",
       "Chisquare = 0.2951675, Df = 1, p = 0.58693"
      ]
     },
     "metadata": {},
     "output_type": "display_data"
    }
   ],
   "source": [
    "# Non-constant Error Variance test\n",
    "\n",
    "# A LARGE P-VALUE (> 0.05) JUSTIFIES EQUAL VARIANCE\n",
    "\"Score Test For Non-Constant Error Variance - model 1:\"\n",
    "ncvTest(fit.1) \n",
    "\n",
    "\"Score Test For Non-Constant Error Variance - model 2:\"\n",
    "ncvTest(fit.2)"
   ]
  },
  {
   "cell_type": "code",
   "execution_count": 18,
   "id": "possible-pasta",
   "metadata": {},
   "outputs": [
    {
     "data": {
      "image/png": "[encoded data removed]",
      "text/plain": [
       "Plot with title \"Model 2\""
      ]
     },
     "metadata": {},
     "output_type": "display_data"
    }
   ],
   "source": [
    "# Residuals versus fits plot\n",
    "\n",
    "layout(matrix(c(1,2),1,2))\n",
    "plot(fit.1$residuals ~ fit.1$fitted.values, ylab=\"Residuals\", xlab=\"Fitted values\", \n",
    "     main=\"Model 1\")\n",
    "\n",
    "plot(fit.2$residuals ~ fit.2$fitted.values, ylab=\"Residuals\", xlab=\"Fitted values\", \n",
    "     main=\"Model 2\")"
   ]
  },
  {
   "cell_type": "code",
   "execution_count": 19,
   "id": "higher-device",
   "metadata": {},
   "outputs": [
    {
     "data": {
      "text/plain": [
       "\n",
       "Suggested power transformation:  1.725638 "
      ]
     },
     "metadata": {},
     "output_type": "display_data"
    },
    {
     "data": {
      "text/plain": [
       "\n",
       "Suggested power transformation:  0.8183417 "
      ]
     },
     "metadata": {},
     "output_type": "display_data"
    },
    {
     "data": {
      "image/png": "[encoded data removed]",
      "text/plain": [
       "Plot with title \"Spread Level Plot of model 2\""
      ]
     },
     "metadata": {},
     "output_type": "display_data"
    }
   ],
   "source": [
    "# Plot Absolute Jackknife Residuals vs. Fitted values \n",
    "# Power Box-Cox Transformation on the response Y is suggested \n",
    "\n",
    "layout(matrix(c(1,2),1,2))\n",
    "spreadLevelPlot(fit.1, main=\"Spread Level Plot of model 1\")\n",
    "\n",
    "spreadLevelPlot(fit.2, main=\"Spread Level Plot of model 2\")"
   ]
  },
  {
   "cell_type": "markdown",
   "id": "departmental-scottish",
   "metadata": {},
   "source": [
    "#### Independence of errors or autocorrelation\n",
    "\n",
    "Durbin-Watson-Test and the autocorrelation function, ACF plots of residuals showed that there is autocorrelation. The Durbin-Watson-Test with p-values of 0 far less than 0.05 and ACF plot having many lines crossing the threshold are sufficient evidence that model 1 does not satisfy the independence of errors or autocorrelation assumption. \n",
    "\n",
    "For model 2, there may be or not autocorrelation because our p-value is close to 0.05 and the ACF plot does not have many lines crossing the threshold.  We conclude this assumption check that the errors are not independent and there is autocorrelation in model 1 but are independent and no autocorrelation in model 2."
   ]
  },
  {
   "cell_type": "code",
   "execution_count": 20,
   "id": "centered-paraguay",
   "metadata": {},
   "outputs": [
    {
     "data": {
      "text/plain": [
       " lag Autocorrelation D-W Statistic p-value\n",
       "   1       0.2862263      1.425901       0\n",
       " Alternative hypothesis: rho != 0"
      ]
     },
     "metadata": {},
     "output_type": "display_data"
    },
    {
     "data": {
      "text/plain": [
       " lag Autocorrelation D-W Statistic p-value\n",
       "   1       0.1026467      1.793532   0.056\n",
       " Alternative hypothesis: rho != 0"
      ]
     },
     "metadata": {},
     "output_type": "display_data"
    }
   ],
   "source": [
    "# Durbin Watson Test for Autocorrelated Errors\n",
    "# LARGE P-VALUE (> 0.05) JUSTIFIES INDEPENDENCE\n",
    "\n",
    "durbinWatsonTest(fit.1) \n",
    "durbinWatsonTest(fit.2)"
   ]
  },
  {
   "cell_type": "code",
   "execution_count": 21,
   "id": "intense-redhead",
   "metadata": {},
   "outputs": [
    {
     "data": {
      "image/png": "[encoded data removed]",
      "text/plain": [
       "Plot with title \"Auto correlation function plot of model 2 residuals\""
      ]
     },
     "metadata": {},
     "output_type": "display_data"
    }
   ],
   "source": [
    "# Autocorrelation function plot of residuals\n",
    "\n",
    "layout(matrix(c(1,2),2,1))\n",
    "acf(fit.1$residuals, lag.max=40, main=\"Auto correlation function plot of model 1 residuals\")\n",
    "acf(fit.2$residuals, lag.max=40, main=\"Auto correlation function plot of model 2 residuals\")"
   ]
  },
  {
   "cell_type": "markdown",
   "id": "narrative-ground",
   "metadata": {},
   "source": [
    "#### Linearity\n",
    "\n",
    "We checked the linearity assumption using scatterplot and the component plus residual plots or partial residual plots with the help of the crPlots() function. The scatterplot did not show any linear trend between the dependent variable and each of the predictors. Nonlinearity in any of the component plus residual plots or partial residual plots suggests that we may not have adequately modeled the functional form of that predictor. This assumption is not totally satisfied by both models."
   ]
  },
  {
   "cell_type": "code",
   "execution_count": 22,
   "id": "viral-chambers",
   "metadata": {},
   "outputs": [
    {
     "data": {
      "image/png": "[encoded data removed]",
      "text/plain": [
       "plot without title"
      ]
     },
     "metadata": {},
     "output_type": "display_data"
    }
   ],
   "source": [
    "# Scatter plot of response versus other variables \n",
    "\n",
    "models.variables <- subset(baseball, select=c(hits, RBI, walks, strike.outs, errors, free.agency.elig, free.agent.91, \n",
    "                                              arb.elig))\n",
    "par(mfrow=c(4, 2))\n",
    "for(i in 1:8){\n",
    "    plot(models.variables[,1], fit.2$logsalary, xlab=paste(\"\", names(models.variables)[i]), ylab=\"logsalary\")\n",
    "}"
   ]
  },
  {
   "cell_type": "code",
   "execution_count": 23,
   "id": "every-entity",
   "metadata": {},
   "outputs": [
    {
     "data": {
      "image/png": "[encoded data removed]",
      "text/plain": [
       "plot without title"
      ]
     },
     "metadata": {},
     "output_type": "display_data"
    },
    {
     "data": {
      "image/png": "[encoded data removed]",
      "text/plain": [
       "plot without title"
      ]
     },
     "metadata": {},
     "output_type": "display_data"
    }
   ],
   "source": [
    "# Evaluate Nonlinearity VIA THE component + residual plot (partial residual)\n",
    "\n",
    "crPlots(fit.1, main=\"Partial Residual Plots - model 1\")\n",
    "\n",
    "crPlots(fit.2, main=\"Partial Residual Plots - model 2\")"
   ]
  },
  {
   "cell_type": "markdown",
   "id": "perfect-poland",
   "metadata": {},
   "source": [
    "#### Normality of residuals\n",
    "\n",
    "We made histogram plot of residuals and probability plots of residuals to softly check for Normality. We also run Shapiro-Wilks tests and Anderson-Darling tests to check for Normality.\n",
    "Model 2 plots appear to conform more to a normal distribution than plots for model 1. The plots are both near normal and not to perfectly normal distribution plots. This was validated by Shapiro-Wilk's and Anderson Darling tests showed (with p-values < 0.05) that there is enough evidence that the residuals distributions are significantly not from a normal distribution. The normality of errors assumption is not satisfied by both models."
   ]
  },
  {
   "cell_type": "code",
   "execution_count": 24,
   "id": "stable-force",
   "metadata": {},
   "outputs": [
    {
     "data": {
      "image/png": "[encoded data removed]",
      "text/plain": [
       "Plot with title \"Normal Q-Q Plot\""
      ]
     },
     "metadata": {},
     "output_type": "display_data"
    },
    {
     "data": {
      "image/png": "[encoded data removed]",
      "text/plain": [
       "Plot with title \"Normal Q-Q Plot\""
      ]
     },
     "metadata": {},
     "output_type": "display_data"
    }
   ],
   "source": [
    "# Histogram and Q-Q norm plot - model 1\n",
    "\n",
    "layout(matrix(c(1,2),1,2))\n",
    "hist(fit.1$residuals, xlab=\"Residuals\", main=\"Histogram of residuals - model 1\")\n",
    "\n",
    "qqnorm(fit.1$residuals)\n",
    "qqline(fit.1$residuals)\n",
    "\n",
    "# Histogram and Q-Q norm plot - model 2\n",
    "hist(fit.2$residuals, xlab=\"Residuals\", main=\"Histogram of residuals - model 2\")\n",
    "\n",
    "qqnorm(fit.2$residuals)\n",
    "qqline(fit.2$residuals)"
   ]
  },
  {
   "cell_type": "code",
   "execution_count": 25,
   "id": "sweet-turtle",
   "metadata": {},
   "outputs": [
    {
     "data": {
      "text/plain": [
       "\n",
       "\tShapiro-Wilk normality test\n",
       "\n",
       "data:  fit.1$residuals\n",
       "W = 0.98669, p-value = 0.003424\n"
      ]
     },
     "metadata": {},
     "output_type": "display_data"
    },
    {
     "data": {
      "text/plain": [
       "\n",
       "\tAnderson-Darling normality test\n",
       "\n",
       "data:  fit.1$residuals\n",
       "A = 1.7, p-value = 0.0002296\n"
      ]
     },
     "metadata": {},
     "output_type": "display_data"
    }
   ],
   "source": [
    "shapiro.test(fit.1$residuals)\n",
    "ad.test(fit.1$residuals)"
   ]
  },
  {
   "cell_type": "code",
   "execution_count": 26,
   "id": "personalized-treatment",
   "metadata": {},
   "outputs": [
    {
     "data": {
      "text/plain": [
       "\n",
       "\tShapiro-Wilk normality test\n",
       "\n",
       "data:  fit.2$residuals\n",
       "W = 0.95582, p-value = 1.547e-08\n"
      ]
     },
     "metadata": {},
     "output_type": "display_data"
    },
    {
     "data": {
      "text/plain": [
       "\n",
       "\tAnderson-Darling normality test\n",
       "\n",
       "data:  fit.2$residuals\n",
       "A = 2.3422, p-value = 6.112e-06\n"
      ]
     },
     "metadata": {},
     "output_type": "display_data"
    }
   ],
   "source": [
    "shapiro.test(fit.2$residuals)\n",
    "ad.test(fit.2$residuals)"
   ]
  },
  {
   "cell_type": "markdown",
   "id": "peripheral-secondary",
   "metadata": {},
   "source": [
    "#### Global Validation of Linear Model Assumptions\n",
    "\n",
    "We performed using the gvlma() function a single global test to assess the linear model assumptions, as well as perform specific directional tests designed to detect skewness, kurtosis, a nonlinear link function, and heteroscedasticity. Model 1 satisfies three of the assumptions while model 2 satisfies only two at 5 % significant level."
   ]
  },
  {
   "cell_type": "code",
   "execution_count": 27,
   "id": "removed-thursday",
   "metadata": {},
   "outputs": [
    {
     "name": "stdout",
     "output_type": "stream",
     "text": [
      "\n",
      "Call:\n",
      "lm(formula = logsalary ~ hits + RBI + walks + strike.outs + errors + \n",
      "    free.agency.elig, data = baseball)\n",
      "\n",
      "Residuals:\n",
      "     Min       1Q   Median       3Q      Max \n",
      "-2.70583 -0.50656 -0.02607  0.53078  2.07558 \n",
      "\n",
      "Coefficients:\n",
      "                  Estimate Std. Error t value Pr(>|t|)    \n",
      "(Intercept)       5.108553   0.086369  59.148  < 2e-16 ***\n",
      "hits              0.007911   0.001563   5.061 6.95e-07 ***\n",
      "RBI               0.012624   0.002896   4.359 1.75e-05 ***\n",
      "walks             0.003142   0.002484   1.265 0.206773    \n",
      "strike.outs      -0.006407   0.001782  -3.595 0.000374 ***\n",
      "errors           -0.001604   0.007292  -0.220 0.825977    \n",
      "free.agency.elig  1.008197   0.084335  11.955  < 2e-16 ***\n",
      "---\n",
      "Signif. codes:  0 '***' 0.001 '**' 0.01 '*' 0.05 '.' 0.1 ' ' 1\n",
      "\n",
      "Residual standard error: 0.6996 on 330 degrees of freedom\n",
      "Multiple R-squared:  0.6527,\tAdjusted R-squared:  0.6464 \n",
      "F-statistic: 103.4 on 6 and 330 DF,  p-value: < 2.2e-16\n",
      "\n",
      "\n",
      "ASSESSMENT OF THE LINEAR MODEL ASSUMPTIONS\n",
      "USING THE GLOBAL TEST ON 4 DEGREES-OF-FREEDOM:\n",
      "Level of Significance =  0.05 \n",
      "\n",
      "Call:\n",
      " gvlma(x = fit.1, alphalevel = 0.05) \n",
      "\n",
      "                       Value  p-value                   Decision\n",
      "Global Stat        10.397451 0.034239 Assumptions NOT satisfied!\n",
      "Skewness            0.000721 0.978579    Assumptions acceptable.\n",
      "Kurtosis            0.507838 0.476076    Assumptions acceptable.\n",
      "Link Function       9.363932 0.002213 Assumptions NOT satisfied!\n",
      "Heteroscedasticity  0.524960 0.468734    Assumptions acceptable.\n"
     ]
    }
   ],
   "source": [
    "# GLOBAL TEST OF MODEL ASSUMPTIONS \n",
    "\n",
    "gvmodel.1 <- gvlma(fit.1, alphalevel=0.05) \n",
    "summary(gvmodel.1)"
   ]
  },
  {
   "cell_type": "code",
   "execution_count": 28,
   "id": "impressive-opposition",
   "metadata": {},
   "outputs": [
    {
     "name": "stdout",
     "output_type": "stream",
     "text": [
      "\n",
      "Call:\n",
      "lm(formula = logsalary ~ hits + RBI + walks + strike.outs + errors + \n",
      "    free.agency.elig + free.agent.91 + arb.elig, data = baseball)\n",
      "\n",
      "Residuals:\n",
      "     Min       1Q   Median       3Q      Max \n",
      "-2.43061 -0.29106 -0.03605  0.32692  1.50084 \n",
      "\n",
      "Coefficients:\n",
      "                  Estimate Std. Error t value Pr(>|t|)    \n",
      "(Intercept)       4.945703   0.067270  73.521  < 2e-16 ***\n",
      "hits              0.004749   0.001215   3.908 0.000113 ***\n",
      "RBI               0.010536   0.002223   4.740 3.19e-06 ***\n",
      "walks             0.003423   0.001911   1.791 0.074247 .  \n",
      "strike.outs      -0.004311   0.001374  -3.138 0.001856 ** \n",
      "errors           -0.007602   0.005679  -1.339 0.181646    \n",
      "free.agency.elig  1.606375   0.081298  19.759  < 2e-16 ***\n",
      "free.agent.91    -0.270868   0.104750  -2.586 0.010145 *  \n",
      "arb.elig          1.315687   0.086930  15.135  < 2e-16 ***\n",
      "---\n",
      "Signif. codes:  0 '***' 0.001 '**' 0.01 '*' 0.05 '.' 0.1 ' ' 1\n",
      "\n",
      "Residual standard error: 0.5359 on 328 degrees of freedom\n",
      "Multiple R-squared:  0.7975,\tAdjusted R-squared:  0.7925 \n",
      "F-statistic: 161.4 on 8 and 328 DF,  p-value: < 2.2e-16\n",
      "\n",
      "\n",
      "ASSESSMENT OF THE LINEAR MODEL ASSUMPTIONS\n",
      "USING THE GLOBAL TEST ON 4 DEGREES-OF-FREEDOM:\n",
      "Level of Significance =  0.05 \n",
      "\n",
      "Call:\n",
      " gvlma(x = fit.2, alphalevel = 0.05) \n",
      "\n",
      "                     Value   p-value                   Decision\n",
      "Global Stat        134.103 0.000e+00 Assumptions NOT satisfied!\n",
      "Skewness            20.189 7.017e-06 Assumptions NOT satisfied!\n",
      "Kurtosis           110.837 0.000e+00 Assumptions NOT satisfied!\n",
      "Link Function        1.023 3.118e-01    Assumptions acceptable.\n",
      "Heteroscedasticity   2.055 1.517e-01    Assumptions acceptable.\n"
     ]
    }
   ],
   "source": [
    "gvmodel.2 <- gvlma(fit.2, alphalevel=0.05) \n",
    "summary(gvmodel.2)"
   ]
  },
  {
   "cell_type": "markdown",
   "id": "transsexual-navigation",
   "metadata": {},
   "source": [
    "#### Outlier detection\n",
    "\n",
    "Outliers are observations that are not predicted well by the model. Outliers can bias parameter estimates (e.g., mean), and they also affect sums of squares. Sums of squares are used to estimate the standard error, so if your sums of squares are biased, standard error likely is too. Outliers could lead to biased confidence intervals which is calculated from sums of squares. We need to get rid of outliers. \n",
    "The function outlierTest() was deployed to help detect outliers. The function reports the Bonferroni adjusted p-value for the largest absolute studentized residual. Player 284 in model 1 and players 284, 322 and 205 are such that their dependent variables in the linear model have unusual value based on their independent variables. They are the most extreme observation in our data, and are indeed outliers because the null can be rejected (adjusted/Bonferroni p < 0.05) \n",
    "\n",
    "The Studentized residuals versus residuals plot helps us find influential cases, if any are present in the data. Outliers may or may not be influential points. Influential outliers are of the greatest concern. They could alter the results, depending on whether they are included or excluded from the analysis. We could hardly see a dash red curved line (Cook’s distance). With the red Cook’s distance curved line just barely peaking out of the corner of plot but none of data points (261, 284, and 322 in model 1 and 205, 284, and 322) are within it, suggested that these players were not truly influential on our regression models.\n",
    "\n",
    "Testing for Influential Observations: Cook’s Distance\n",
    "The Cook’s distance versus observation number plot below is a measure of the influence of each observation on the regression coefficients. The Cook’s distance statistic is a measure, for each observation in turn, of the extent of change in model estimates when that particular observation is omitted. Any observation for which the Cook’s distance is close to 1 or more, or that is substantially larger than other Cook’s distances (highly influential data points), requires investigation.\n",
    "\n",
    "Players 205, 261, 284, and 322 appear to be the most influential observations in our data, confirming what we saw above in the Studentized residuals versus residuals plot to get a sense of whether any data points are influential. However, it is important to note that the Studentized residuals versus residuals plot suggested that these observations were not truly influential on our regression results."
   ]
  },
  {
   "cell_type": "code",
   "execution_count": 29,
   "id": "dramatic-permission",
   "metadata": {},
   "outputs": [
    {
     "data": {
      "text/html": [
       "'Outlier test for Model 1:'"
      ],
      "text/latex": [
       "'Outlier test for Model 1:'"
      ],
      "text/markdown": [
       "'Outlier test for Model 1:'"
      ],
      "text/plain": [
       "[1] \"Outlier test for Model 1:\""
      ]
     },
     "metadata": {},
     "output_type": "display_data"
    },
    {
     "data": {
      "text/plain": [
       "     rstudent unadjusted p-value Bonferroni p\n",
       "284 -4.051429          6.356e-05      0.02142"
      ]
     },
     "metadata": {},
     "output_type": "display_data"
    },
    {
     "data": {
      "text/html": [
       "'Outlier test for Model 2:'"
      ],
      "text/latex": [
       "'Outlier test for Model 2:'"
      ],
      "text/markdown": [
       "'Outlier test for Model 2:'"
      ],
      "text/plain": [
       "[1] \"Outlier test for Model 2:\""
      ]
     },
     "metadata": {},
     "output_type": "display_data"
    },
    {
     "data": {
      "text/plain": [
       "     rstudent unadjusted p-value Bonferroni p\n",
       "284 -4.844942         1.9591e-06    0.0006602\n",
       "322 -4.729987         3.3450e-06    0.0011273\n",
       "205 -4.086768         5.5091e-05    0.0185660"
      ]
     },
     "metadata": {},
     "output_type": "display_data"
    }
   ],
   "source": [
    "# Bonferonni p-value for most extreme observations\n",
    "\"Outlier test for Model 1:\"\n",
    "outlierTest(fit.1)\n",
    "\n",
    "\"Outlier test for Model 2:\"\n",
    "outlierTest(fit.2) "
   ]
  },
  {
   "cell_type": "code",
   "execution_count": 30,
   "id": "improved-missouri",
   "metadata": {},
   "outputs": [
    {
     "data": {
      "image/png": "[encoded data removed]",
      "text/plain": [
       "Plot with title \"Model 2\""
      ]
     },
     "metadata": {},
     "output_type": "display_data"
    }
   ],
   "source": [
    "# Studentized residuals versus residuals\n",
    "\n",
    "layout(matrix(c(1,2),1,2))\n",
    "plot(fit.1, which=5, main=\"Model 1\")\n",
    "plot(fit.2, which=5, main=\"Model 2\")"
   ]
  },
  {
   "cell_type": "code",
   "execution_count": 31,
   "id": "finished-instrumentation",
   "metadata": {},
   "outputs": [
    {
     "data": {
      "image/png": "[encoded data removed]",
      "text/plain": [
       "Plot with title \"Model 2\""
      ]
     },
     "metadata": {},
     "output_type": "display_data"
    }
   ],
   "source": [
    "# Plot of Cook's Distance\n",
    "\n",
    "layout(matrix(c(1,2),1,2))\n",
    "p <- length(fit.1$coefficients)\n",
    "n <- nrow(baseball)\n",
    "cutoff <- 4/(n-p-2)\n",
    "plot(fit.1, which=4, cook.levels=cutoff, col=\"gray65\", lwd=1.5, main=\"Model 1\")\n",
    "plot(fit.2, which=4, cook.levels=cutoff, col=\"gray\", lwd=1.5, main=\"Model 2\")"
   ]
  },
  {
   "cell_type": "markdown",
   "id": "accredited-monitor",
   "metadata": {},
   "source": [
    "#### 3.3 Model Comparison\n",
    "\n",
    "From the p-value (3.9 e-39 << 0.05) of the ANOVA table, we conclude that adding two more variables to our model for prediction added to the linear prediction and we are justified by adding them in our model. Also, the model with the lower Akaike Information Criterion, AIC score is preferred. The AIC score suggest that model 2 is the better model."
   ]
  },
  {
   "cell_type": "code",
   "execution_count": 32,
   "id": "rotary-associate",
   "metadata": {},
   "outputs": [
    {
     "data": {
      "text/html": [
       "<table>\n",
       "<thead><tr><th scope=col>Res.Df</th><th scope=col>RSS</th><th scope=col>Df</th><th scope=col>Sum of Sq</th><th scope=col>F</th><th scope=col>Pr(&gt;F)</th></tr></thead>\n",
       "<tbody>\n",
       "\t<tr><td>328         </td><td> 94.19849   </td><td>NA          </td><td>       NA   </td><td>      NA    </td><td>          NA</td></tr>\n",
       "\t<tr><td>330         </td><td>161.51498   </td><td>-2          </td><td>-67.31649   </td><td>117.1983    </td><td>3.947339e-39</td></tr>\n",
       "</tbody>\n",
       "</table>\n"
      ],
      "text/latex": [
       "\\begin{tabular}{r|llllll}\n",
       " Res.Df & RSS & Df & Sum of Sq & F & Pr(>F)\\\\\n",
       "\\hline\n",
       "\t 328          &  94.19849    & NA           &        NA    &       NA     &           NA\\\\\n",
       "\t 330          & 161.51498    & -2           & -67.31649    & 117.1983     & 3.947339e-39\\\\\n",
       "\\end{tabular}\n"
      ],
      "text/markdown": [
       "\n",
       "| Res.Df | RSS | Df | Sum of Sq | F | Pr(>F) |\n",
       "|---|---|---|---|---|---|\n",
       "| 328          |  94.19849    | NA           |        NA    |       NA     |           NA |\n",
       "| 330          | 161.51498    | -2           | -67.31649    | 117.1983     | 3.947339e-39 |\n",
       "\n"
      ],
      "text/plain": [
       "  Res.Df RSS       Df Sum of Sq F        Pr(>F)      \n",
       "1 328     94.19849 NA        NA       NA           NA\n",
       "2 330    161.51498 -2 -67.31649 117.1983 3.947339e-39"
      ]
     },
     "metadata": {},
     "output_type": "display_data"
    }
   ],
   "source": [
    "# Comparing models using the anova() function\n",
    "\n",
    "anova(fit.2, fit.1)"
   ]
  },
  {
   "cell_type": "code",
   "execution_count": 33,
   "id": "direct-prize",
   "metadata": {},
   "outputs": [
    {
     "data": {
      "text/html": [
       "<table>\n",
       "<thead><tr><th></th><th scope=col>df</th><th scope=col>AIC</th></tr></thead>\n",
       "<tbody>\n",
       "\t<tr><th scope=row>fit.1</th><td> 8      </td><td>724.5061</td></tr>\n",
       "\t<tr><th scope=row>fit.2</th><td>10      </td><td>546.7978</td></tr>\n",
       "</tbody>\n",
       "</table>\n"
      ],
      "text/latex": [
       "\\begin{tabular}{r|ll}\n",
       "  & df & AIC\\\\\n",
       "\\hline\n",
       "\tfit.1 &  8       & 724.5061\\\\\n",
       "\tfit.2 & 10       & 546.7978\\\\\n",
       "\\end{tabular}\n"
      ],
      "text/markdown": [
       "\n",
       "| <!--/--> | df | AIC |\n",
       "|---|---|---|\n",
       "| fit.1 |  8       | 724.5061 |\n",
       "| fit.2 | 10       | 546.7978 |\n",
       "\n"
      ],
      "text/plain": [
       "      df AIC     \n",
       "fit.1  8 724.5061\n",
       "fit.2 10 546.7978"
      ]
     },
     "metadata": {},
     "output_type": "display_data"
    }
   ],
   "source": [
    "# Comparing models using the Akaike information criterion, AIC\n",
    "\n",
    "AIC(fit.1, fit.2)"
   ]
  },
  {
   "cell_type": "markdown",
   "id": "handmade-rendering",
   "metadata": {},
   "source": [
    "#### REFERENCES\n",
    "\n",
    "Many parts of codes and notes from Dr. Masum Bhuiyan’s Predictive Analytics STAT 5290 class (Spring 2021)\n",
    "\n",
    "Parts of notes from Dr. Matthew Jones’ Regression Analysis STAT 5120 class (Spring 2020)\n",
    "\n",
    "Christensen, R. (1996),_Analysis of Variance, Design and Regression: Applied Statistical Methods_,  New York: Chapman and Hall.\n",
    "\n",
    "Neter, J., Kutner, M. H., Nachtsheim, C. J., and Wasserman, W. (1996), _Applied Linear Statistical Models_ (4th ed.), Chicago: Irwin.\n",
    "\n",
    "Hair, J. F., Hult, G. T. M., Ringle, C. M., and Sarstedt, M. 2017. A Primer on Partial Least Squares Structural Equation Modeling (PLS-SEM). 2nd Ed. Thousand Oaks, CA: Sage\n",
    "\n",
    "https://github.com/shivangi2012/Multiple-Linear-Regression-Analysis/blob/master/R%20notebook%20report.pdf\n",
    "\n",
    "https://joshualoong.com/2019/09/20/Appreciating-R-The-Ease-of-Testing-Linear-Model-Assumptions/\n",
    "\n",
    "https://www.rdocumentation.org\n",
    "\n",
    "https://ademos.people.uic.edu/Chapter12.html\n",
    "\n",
    "https://www.r-project.org/"
   ]
  }
 ],
 "metadata": {
  "kernelspec": {
   "display_name": "R",
   "language": "R",
   "name": "ir"
  },
  "language_info": {
   "codemirror_mode": "r",
   "file_extension": ".r",
   "mimetype": "text/x-r-source",
   "name": "R",
   "pygments_lexer": "r",
   "version": "3.6.1"
  }
 },
 "nbformat": 4,
 "nbformat_minor": 5
}
